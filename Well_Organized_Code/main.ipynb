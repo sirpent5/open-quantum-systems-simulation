{
 "cells": [
  {
   "cell_type": "code",
   "execution_count": 1,
   "id": "cfd70f4e",
   "metadata": {},
   "outputs": [
    {
     "name": "stdout",
     "output_type": "stream",
     "text": [
      "--- 1. Starting to run imports.py ---\n",
      "Imports loaded successfully.\n"
     ]
    }
   ],
   "source": [
    "from imports import *\n",
    "from defs import numberop, Sigma_minus, Sigma_plus, Sigma_x, Sigma_y, Sigma_z\n",
    "from exactDiagMethods import Liouvillian, perform_exact_diag, build_exact_diag_hamiltonian\n",
    "from globalMethods import verify_density_matrix, output_results, build_initial_states\n",
    "from vqteMethods import hamiltonian_generation_simple, hamiltonian_generation, perform_vqte"
   ]
  },
  {
   "cell_type": "code",
   "execution_count": 2,
   "id": "d6622a9e",
   "metadata": {},
   "outputs": [],
   "source": [
    "\n",
    "def main():\n",
    "    # Initialize the simulation parameters\n",
    "    gamma=0.1\n",
    "    eps=1\n",
    "    mu=3\n",
    "    T=10\n",
    "    beta=1/T\n",
    "    F = 1/(np.exp(beta*(eps-mu))+1)\n",
    "\n",
    "    time = 50.0\n",
    "    dt = 0.1\n",
    "    nt = int(time/dt)\n",
    "\n",
    "    ham_real, ham_imag = hamiltonian_generation(eps, gamma, mu, T)\n",
    "    vqte_init_state, exact_diag_init_state, ansatz, init_param_values = build_initial_states(ham_real)\n",
    "    exact_diag_ham = build_exact_diag_hamiltonian(eps)\n",
    "\n",
    "    print(vqte_init_state)\n",
    "    print(exact_diag_init_state)\n",
    "\n",
    "    # Perform exact diagonalization\n",
    "    exact_diag_results, time_points = perform_exact_diag(gamma, F, dt, nt, exact_diag_init_state,exact_diag_ham)\n",
    "\n",
    "    # Perform VQTE simulation\n",
    "    vqte_results, trace_list = perform_vqte(ham_real, ham_imag, vqte_init_state, mu, T, dt, nt, ansatz, init_param_values)\n",
    "\n",
    "    # Output results\n",
    "    output_results(vqte_results, exact_diag_results, time, nt, eps, mu, T, time_points, trace_list)"
   ]
  },
  {
   "cell_type": "code",
   "execution_count": null,
   "id": "8a6ff9c2",
   "metadata": {},
   "outputs": [
    {
     "name": "stdout",
     "output_type": "stream",
     "text": [
      "Statevector([ 1.0000000e+00+4.89858720e-16j,\n",
      "             -1.2246468e-16-2.99951957e-32j,\n",
      "             -2.4492936e-16-2.99951957e-32j,\n",
      "             -1.2246468e-16+2.99951957e-32j],\n",
      "            dims=(2, 2))\n",
      "[[ 1.0000000e+00+4.89858720e-16j -2.4492936e-16-2.99951957e-32j]\n",
      " [-1.2246468e-16-2.99951957e-32j -1.2246468e-16+2.99951957e-32j]]\n",
      "Reference number operator expectation value: (0.5498339973124781+0j)\n",
      "Is Hermitian: True\n",
      "Trace: (0.9999999999999999+4.898587196589413e-16j) (should be 1)\n",
      "Eigenvalues: [-1.2246468e-16  1.0000000e+00]\n",
      "All eigenvalues ≥ 0: False\n",
      "Purity (Tr(ρ²)): (1+9.797174393178826e-16j) (should be 1 for pure state)\n",
      "Initial expectation value of number operator: (-1.224646799147353e-16+8.998558695971146e-32j)\n",
      "Initial expectation value of number operator using VQE: (-1.224646799147353e-16+8.998558695971146e-32j)\n"
     ]
    }
   ],
   "source": [
    "main()"
   ]
  }
 ],
 "metadata": {
  "kernelspec": {
   "display_name": "Python 3",
   "language": "python",
   "name": "python3"
  },
  "language_info": {
   "codemirror_mode": {
    "name": "ipython",
    "version": 3
   },
   "file_extension": ".py",
   "mimetype": "text/x-python",
   "name": "python",
   "nbconvert_exporter": "python",
   "pygments_lexer": "ipython3",
   "version": "3.11.9"
  }
 },
 "nbformat": 4,
 "nbformat_minor": 5
}
