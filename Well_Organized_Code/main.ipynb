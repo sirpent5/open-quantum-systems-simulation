{
 "cells": [
  {
   "cell_type": "code",
   "execution_count": 16,
   "id": "cfd70f4e",
   "metadata": {},
   "outputs": [],
   "source": [
    "from imports import *\n",
    "from defs import numberop, Sigma_minus, Sigma_plus, Sigma_x, Sigma_y, Sigma_z\n",
    "from exactDiagMethods import Liouvillian, verify_density_matrix\n",
    "from vqteMethods import hamiltonian_generation_simple, hamiltonian_generation, statevector_to_densitymatrix\n",
    "  # replace with your actual matrix names\n"
   ]
  },
  {
   "cell_type": "code",
   "execution_count": 17,
   "id": "d6622a9e",
   "metadata": {},
   "outputs": [
    {
     "name": "stdout",
     "output_type": "stream",
     "text": [
      "[[0.+0.j 0.+0.j]\n",
      " [0.+0.j 1.+0.j]]\n",
      "Is Hermitian: True\n",
      "Trace: (1+0j) (should be 1)\n",
      "Eigenvalues: [0. 1.]\n",
      "All eigenvalues ≥ 0: True\n",
      "Purity (Tr(ρ²)): (1+0j) (should be 1 for pure state)\n"
     ]
    },
    {
     "ename": "NameError",
     "evalue": "name 'SparsePauliOp' is not defined",
     "output_type": "error",
     "traceback": [
      "\u001b[31m---------------------------------------------------------------------------\u001b[39m",
      "\u001b[31mNameError\u001b[39m                                 Traceback (most recent call last)",
      "\u001b[36mCell\u001b[39m\u001b[36m \u001b[39m\u001b[32mIn[17]\u001b[39m\u001b[32m, line 3\u001b[39m\n\u001b[32m      1\u001b[39m \u001b[38;5;28mprint\u001b[39m(numberop)\n\u001b[32m      2\u001b[39m verify_density_matrix(numberop)\n\u001b[32m----> \u001b[39m\u001b[32m3\u001b[39m \u001b[43mhamiltonian_generation_simple\u001b[49m\u001b[43m(\u001b[49m\u001b[43m)\u001b[49m\n",
      "\u001b[36mFile \u001b[39m\u001b[32mc:\\Users\\tessa\\OneDrive\\Desktop\\CS0449\\open-quantum-systems-simulation\\Well_Organized_Code\\vqteMethods.py:30\u001b[39m, in \u001b[36mhamiltonian_generation_simple\u001b[39m\u001b[34m()\u001b[39m\n\u001b[32m     23\u001b[39m \u001b[38;5;28;01mdef\u001b[39;00m\u001b[38;5;250m \u001b[39m\u001b[34mhamiltonian_generation_simple\u001b[39m():\n\u001b[32m     24\u001b[39m \u001b[38;5;250m    \u001b[39m\u001b[33;03m\"\"\"\u001b[39;00m\n\u001b[32m     25\u001b[39m \u001b[33;03m    Generates a simple Hamiltonian for a single qubit system.\u001b[39;00m\n\u001b[32m     26\u001b[39m \n\u001b[32m     27\u001b[39m \u001b[33;03m    Returns:\u001b[39;00m\n\u001b[32m     28\u001b[39m \u001b[33;03m        hamiltonian_re: SparsePauliOp representing the Hamiltonian.\u001b[39;00m\n\u001b[32m     29\u001b[39m \u001b[33;03m    \"\"\"\u001b[39;00m\n\u001b[32m---> \u001b[39m\u001b[32m30\u001b[39m     \u001b[38;5;28;01mreturn\u001b[39;00m \u001b[43mSparsePauliOp\u001b[49m([\u001b[33m\"\u001b[39m\u001b[33mIX\u001b[39m\u001b[33m\"\u001b[39m, \u001b[33m\"\u001b[39m\u001b[33mXI\u001b[39m\u001b[33m\"\u001b[39m], coeffs=[\u001b[32m1\u001b[39m, -\u001b[32m1\u001b[39m])\n",
      "\u001b[31mNameError\u001b[39m: name 'SparsePauliOp' is not defined"
     ]
    }
   ],
   "source": [
    "\n",
    "print(numberop)\n",
    "verify_density_matrix(numberop)\n",
    "hamiltonian_generation_simple()\n"
   ]
  }
 ],
 "metadata": {
  "kernelspec": {
   "display_name": "Python 3",
   "language": "python",
   "name": "python3"
  },
  "language_info": {
   "codemirror_mode": {
    "name": "ipython",
    "version": 3
   },
   "file_extension": ".py",
   "mimetype": "text/x-python",
   "name": "python",
   "nbconvert_exporter": "python",
   "pygments_lexer": "ipython3",
   "version": "3.11.9"
  }
 },
 "nbformat": 4,
 "nbformat_minor": 5
}
