{
 "cells": [
  {
   "cell_type": "code",
   "execution_count": 11,
   "id": "cfd70f4e",
   "metadata": {},
   "outputs": [
    {
     "ename": "ImportError",
     "evalue": "cannot import name 'perform_vqte' from 'vqteMethods' (c:\\Users\\tessa\\OneDrive\\Desktop\\CS0449\\open-quantum-systems-simulation\\Well_Organized_Code\\vqteMethods.py)",
     "output_type": "error",
     "traceback": [
      "\u001b[31m---------------------------------------------------------------------------\u001b[39m",
      "\u001b[31mImportError\u001b[39m                               Traceback (most recent call last)",
      "\u001b[36mCell\u001b[39m\u001b[36m \u001b[39m\u001b[32mIn[11]\u001b[39m\u001b[32m, line 4\u001b[39m\n\u001b[32m      2\u001b[39m \u001b[38;5;28;01mfrom\u001b[39;00m\u001b[38;5;250m \u001b[39m\u001b[34;01mdefs\u001b[39;00m\u001b[38;5;250m \u001b[39m\u001b[38;5;28;01mimport\u001b[39;00m numberop, Sigma_minus, Sigma_plus, Sigma_x, Sigma_y, Sigma_z\n\u001b[32m      3\u001b[39m \u001b[38;5;28;01mfrom\u001b[39;00m\u001b[38;5;250m \u001b[39m\u001b[34;01mexactDiagMethods\u001b[39;00m\u001b[38;5;250m \u001b[39m\u001b[38;5;28;01mimport\u001b[39;00m Liouvillian, verify_density_matrix\n\u001b[32m----> \u001b[39m\u001b[32m4\u001b[39m \u001b[38;5;28;01mfrom\u001b[39;00m\u001b[38;5;250m \u001b[39m\u001b[34;01mvqteMethods\u001b[39;00m\u001b[38;5;250m \u001b[39m\u001b[38;5;28;01mimport\u001b[39;00m hamiltonian_generation_simple, hamiltonian_generation, statevector_to_densitymatrix, build_initial_states, perform_vqte\n",
      "\u001b[31mImportError\u001b[39m: cannot import name 'perform_vqte' from 'vqteMethods' (c:\\Users\\tessa\\OneDrive\\Desktop\\CS0449\\open-quantum-systems-simulation\\Well_Organized_Code\\vqteMethods.py)"
     ]
    }
   ],
   "source": [
    "from imports import *\n",
    "from defs import numberop, Sigma_minus, Sigma_plus, Sigma_x, Sigma_y, Sigma_z\n",
    "from exactDiagMethods import Liouvillian, verify_density_matrix\n",
    "from vqteMethods import hamiltonian_generation_simple, hamiltonian_generation, statevector_to_densitymatrix, build_initial_states, perform_vqte"
   ]
  },
  {
   "cell_type": "code",
   "execution_count": null,
   "id": "d6622a9e",
   "metadata": {},
   "outputs": [],
   "source": [
    "\n",
    "def main():\n",
    "    # Initialize the simulation parameters\n",
    "    gamma=1\n",
    "    eps=1\n",
    "    mu=0\n",
    "    T=10\n",
    "    beta=1/T\n",
    "\n",
    "    time = 10.0\n",
    "    nt = 1000\n",
    "    dt = time / nt\n",
    "\n",
    "    ham_real, ham_imag = hamiltonian_generation(eps, gamma, mu, T)\n",
    "    vqte_init_state, exact_diag_init_state, ansatz = build_initial_states(ham_real)\n",
    "    print(vqte_init_state)\n",
    "    print(exact_diag_init_state)\n",
    "\n",
    "    # Perform exact diagonalization\n",
    "    exact_diag_results = exactDiagMethods.perform_exact_diagonalization(hamiltonian, initial_state)\n",
    "\n",
    "    # Perform VQTE simulation\n",
    "    vqte_results = vqteMethods.perform_vqte_simulation(hamiltonian, initial_state, params)\n",
    "\n",
    "    # Output results\n",
    "    imports.output_results(exact_diag_results, vqte_results, params['output_file'])"
   ]
  },
  {
   "cell_type": "code",
   "execution_count": null,
   "id": "8a6ff9c2",
   "metadata": {},
   "outputs": [
    {
     "name": "stdout",
     "output_type": "stream",
     "text": [
      "Hey im here\n",
      "#Leaving \n",
      "Statevector([ 1.0000000e+00+4.89858720e-16j,\n",
      "             -1.2246468e-16-2.99951957e-32j,\n",
      "             -2.4492936e-16-2.99951957e-32j,\n",
      "             -1.2246468e-16+2.99951957e-32j],\n",
      "            dims=(2, 2))\n",
      "[[ 1.0000000e+00+4.89858720e-16j -2.4492936e-16-2.99951957e-32j]\n",
      " [-1.2246468e-16-2.99951957e-32j -1.2246468e-16+2.99951957e-32j]]\n"
     ]
    },
    {
     "ename": "NameError",
     "evalue": "name 'exactDiagMethods' is not defined",
     "output_type": "error",
     "traceback": [
      "\u001b[31m---------------------------------------------------------------------------\u001b[39m",
      "\u001b[31mNameError\u001b[39m                                 Traceback (most recent call last)",
      "\u001b[36mCell\u001b[39m\u001b[36m \u001b[39m\u001b[32mIn[9]\u001b[39m\u001b[32m, line 1\u001b[39m\n\u001b[32m----> \u001b[39m\u001b[32m1\u001b[39m \u001b[43mmain\u001b[49m\u001b[43m(\u001b[49m\u001b[43m)\u001b[49m\n",
      "\u001b[36mCell\u001b[39m\u001b[36m \u001b[39m\u001b[32mIn[8]\u001b[39m\u001b[32m, line 19\u001b[39m, in \u001b[36mmain\u001b[39m\u001b[34m()\u001b[39m\n\u001b[32m     16\u001b[39m \u001b[38;5;28mprint\u001b[39m(exact_diag_init_state)\n\u001b[32m     18\u001b[39m \u001b[38;5;66;03m# Perform exact diagonalization\u001b[39;00m\n\u001b[32m---> \u001b[39m\u001b[32m19\u001b[39m exact_diag_results = \u001b[43mexactDiagMethods\u001b[49m.perform_exact_diagonalization(hamiltonian, initial_state)\n\u001b[32m     21\u001b[39m \u001b[38;5;66;03m# Perform VQTE simulation\u001b[39;00m\n\u001b[32m     22\u001b[39m vqte_results = vqteMethods.perform_vqte_simulation(hamiltonian, initial_state, params)\n",
      "\u001b[31mNameError\u001b[39m: name 'exactDiagMethods' is not defined"
     ]
    }
   ],
   "source": [
    "main()"
   ]
  }
 ],
 "metadata": {
  "kernelspec": {
   "display_name": "Python 3",
   "language": "python",
   "name": "python3"
  },
  "language_info": {
   "codemirror_mode": {
    "name": "ipython",
    "version": 3
   },
   "file_extension": ".py",
   "mimetype": "text/x-python",
   "name": "python",
   "nbconvert_exporter": "python",
   "pygments_lexer": "ipython3",
   "version": "3.11.9"
  }
 },
 "nbformat": 4,
 "nbformat_minor": 5
}
