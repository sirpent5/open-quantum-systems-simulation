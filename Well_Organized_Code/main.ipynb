{
 "cells": [
  {
   "cell_type": "code",
   "execution_count": null,
   "id": "cfd70f4e",
   "metadata": {},
   "outputs": [
    {
     "name": "stdout",
     "output_type": "stream",
     "text": [
      "--- 1. Starting to run imports.py ---\n",
      "Imports loaded successfully.\n"
     ]
    }
   ],
   "source": [
    "from imports import *\n",
    "from defs import numberop, Sigma_minus, Sigma_plus, Sigma_x, Sigma_y, Sigma_z\n",
    "from exactDiagMethods import Liouvillian, verify_density_matrix, perform_exact_diag, output_results\n",
    "from vqteMethods import hamiltonian_generation_simple, hamiltonian_generation, statevector_to_densitymatrix, build_initial_states, perform_vqte"
   ]
  },
  {
   "cell_type": "code",
   "execution_count": null,
   "id": "d6622a9e",
   "metadata": {},
   "outputs": [],
   "source": [
    "\n",
    "def main():\n",
    "    # Initialize the simulation parameters\n",
    "    gamma=1\n",
    "    eps=1\n",
    "    mu=0\n",
    "    T=10\n",
    "    beta=1/T\n",
    "\n",
    "    time = 10.0\n",
    "    nt = 1000\n",
    "    dt = time / nt\n",
    "\n",
    "    ham_real, ham_imag = hamiltonian_generation(eps, gamma, mu, T)\n",
    "    vqte_init_state, exact_diag_init_state, ansatz, init_param_values = build_initial_states(ham_real)\n",
    "    print(vqte_init_state)\n",
    "    print(exact_diag_init_state)\n",
    "\n",
    "    # Perform exact diagonalization\n",
    "    exact_diag_results = perform_exact_diag(hamiltonian, initial_state)\n",
    "\n",
    "    # Perform VQTE simulation\n",
    "    vqte_results = perform_vqte(ham_real, ham_imag, vqte_init_state, mu, T, dt, nt, ansatz, init_param_values)\n",
    "\n",
    "    # Output results\n",
    "    output_results(exact_diag_results, vqte_results, params['output_file'])"
   ]
  },
  {
   "cell_type": "code",
   "execution_count": 3,
   "id": "8a6ff9c2",
   "metadata": {},
   "outputs": [
    {
     "name": "stdout",
     "output_type": "stream",
     "text": [
      "Statevector([ 1.0000000e+00+4.89858720e-16j,\n",
      "             -1.2246468e-16-2.99951957e-32j,\n",
      "             -2.4492936e-16-2.99951957e-32j,\n",
      "             -1.2246468e-16+2.99951957e-32j],\n",
      "            dims=(2, 2))\n",
      "[[ 1.0000000e+00+4.89858720e-16j -2.4492936e-16-2.99951957e-32j]\n",
      " [-1.2246468e-16-2.99951957e-32j -1.2246468e-16+2.99951957e-32j]]\n",
      "Initial expectation value of number operator using VQE: (-1.224646799147353e-16+8.998558695971146e-32j)\n"
     ]
    },
    {
     "ename": "NameError",
     "evalue": "name 'imports' is not defined",
     "output_type": "error",
     "traceback": [
      "\u001b[31m---------------------------------------------------------------------------\u001b[39m",
      "\u001b[31mNameError\u001b[39m                                 Traceback (most recent call last)",
      "\u001b[36mCell\u001b[39m\u001b[36m \u001b[39m\u001b[32mIn[3]\u001b[39m\u001b[32m, line 1\u001b[39m\n\u001b[32m----> \u001b[39m\u001b[32m1\u001b[39m \u001b[43mmain\u001b[49m\u001b[43m(\u001b[49m\u001b[43m)\u001b[49m\n",
      "\u001b[36mCell\u001b[39m\u001b[36m \u001b[39m\u001b[32mIn[2]\u001b[39m\u001b[32m, line 25\u001b[39m, in \u001b[36mmain\u001b[39m\u001b[34m()\u001b[39m\n\u001b[32m     22\u001b[39m vqte_results = perform_vqte(ham_real, ham_imag, vqte_init_state, mu, T, dt, nt, ansatz, init_param_values)\n\u001b[32m     24\u001b[39m \u001b[38;5;66;03m# Output results\u001b[39;00m\n\u001b[32m---> \u001b[39m\u001b[32m25\u001b[39m \u001b[43mimports\u001b[49m.output_results(exact_diag_results, vqte_results, params[\u001b[33m'\u001b[39m\u001b[33moutput_file\u001b[39m\u001b[33m'\u001b[39m])\n",
      "\u001b[31mNameError\u001b[39m: name 'imports' is not defined"
     ]
    }
   ],
   "source": [
    "main()"
   ]
  }
 ],
 "metadata": {
  "kernelspec": {
   "display_name": "Python 3",
   "language": "python",
   "name": "python3"
  },
  "language_info": {
   "codemirror_mode": {
    "name": "ipython",
    "version": 3
   },
   "file_extension": ".py",
   "mimetype": "text/x-python",
   "name": "python",
   "nbconvert_exporter": "python",
   "pygments_lexer": "ipython3",
   "version": "3.11.9"
  }
 },
 "nbformat": 4,
 "nbformat_minor": 5
}
