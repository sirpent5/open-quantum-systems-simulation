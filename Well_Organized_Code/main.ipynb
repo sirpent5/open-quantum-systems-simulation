{
 "cells": [
  {
   "cell_type": "code",
   "execution_count": null,
   "id": "cfd70f4e",
   "metadata": {},
   "outputs": [],
   "source": [
    "%run ./imports.ipynb\n",
    "%run ./defs.ipynb\n",
    "%run ./exactDiagMethods.ipynb\n",
    "%run ./vqteMethods.ipynb"
   ]
  }
 ],
 "metadata": {
  "language_info": {
   "name": "python"
  }
 },
 "nbformat": 4,
 "nbformat_minor": 5
}
