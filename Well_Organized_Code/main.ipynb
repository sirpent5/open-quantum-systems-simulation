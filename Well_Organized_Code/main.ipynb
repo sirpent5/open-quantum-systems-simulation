{
 "cells": [
  {
   "cell_type": "code",
   "execution_count": 21,
   "id": "cfd70f4e",
   "metadata": {},
   "outputs": [],
   "source": [
    "import exactDiagMethods, defs, vqteMethods, imports"
   ]
  },
  {
   "cell_type": "code",
   "execution_count": null,
   "id": "d6622a9e",
   "metadata": {},
   "outputs": [
    {
     "ename": "NameError",
     "evalue": "name 'sigma_x' is not defined",
     "output_type": "error",
     "traceback": [
      "\u001b[31m---------------------------------------------------------------------------\u001b[39m",
      "\u001b[31mNameError\u001b[39m                                 Traceback (most recent call last)",
      "\u001b[36mCell\u001b[39m\u001b[36m \u001b[39m\u001b[32mIn[22]\u001b[39m\u001b[32m, line 5\u001b[39m\n\u001b[32m      2\u001b[39m T1 = \u001b[32m1.0\u001b[39m\n\u001b[32m      3\u001b[39m T2 = \u001b[32m1.0\u001b[39m\n\u001b[32m----> \u001b[39m\u001b[32m5\u001b[39m \u001b[38;5;28mprint\u001b[39m(\u001b[43msigma_x\u001b[49m)\n",
      "\u001b[31mNameError\u001b[39m: name 'sigma_x' is not defined"
     ]
    }
   ],
   "source": [
    "N = 1\n",
    "T1 = 1.0\n",
    "T2 = 1.0\n",
    "\n",
    "print(Sigma_x)\n"
   ]
  }
 ],
 "metadata": {
  "kernelspec": {
   "display_name": "Python 3",
   "language": "python",
   "name": "python3"
  },
  "language_info": {
   "codemirror_mode": {
    "name": "ipython",
    "version": 3
   },
   "file_extension": ".py",
   "mimetype": "text/x-python",
   "name": "python",
   "nbconvert_exporter": "python",
   "pygments_lexer": "ipython3",
   "version": "3.11.9"
  }
 },
 "nbformat": 4,
 "nbformat_minor": 5
}
