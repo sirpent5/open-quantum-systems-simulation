{
 "cells": [
  {
   "cell_type": "code",
   "execution_count": 1,
   "id": "cfd70f4e",
   "metadata": {},
   "outputs": [],
   "source": [
    "from imports import *\n",
    "from defs import numberop, Sigma_minus, Sigma_plus, Sigma_x, Sigma_y, Sigma_z\n",
    "from exactDiagMethods import Liouvillian, perform_exact_diag, build_exact_diag_hamiltonian, Enlarge_Matrix_site_j,output_exact_diag_results, Correlation_Matrix_i_Matrix_j, generate_random_state\n",
    "from globalMethods import verify_density_matrix, build_initial_states, output_results\n",
    "from vqteMethods import hamiltonian_generation_simple, hamiltonian_generation, perform_vqte"
   ]
  },
  {
   "cell_type": "code",
   "execution_count": 2,
   "id": "d6622a9e",
   "metadata": {},
   "outputs": [],
   "source": [
    "\n",
    "def main():\n",
    "    # Initialize the simulation parameters\n",
    "    N = 1\n",
    "    gamma=0.05\n",
    "    eps=1\n",
    "    mu_L=2\n",
    "    mu_R=0.1\n",
    "    T_L = 4\n",
    "    T_R= 5\n",
    "    beta_L=1/T_L\n",
    "    beta_R=1/T_R\n",
    "    F_L = 1/(np.exp(beta_L*(eps-mu_L))+1)\n",
    "    F_R = 1/(np.exp(beta_R*(eps-mu_R))+1)\n",
    "\n",
    "    time = 3.0\n",
    "    dt = 0.1\n",
    "    nt = int(time/dt)\n",
    "    exact_diag_ham= build_exact_diag_hamiltonian(N)\n",
    "\n",
    "\n",
    "    ham_real, ham_imag = hamiltonian_generation(N, eps, gamma, F_L, F_R)\n",
    "    print(\"Ham imag\", ham_imag)\n",
    "    print(\"Ham real\", ham_real)\n",
    "\n",
    "    vqte_init_state, exact_diag_init_state, ansatz, init_param_values = build_initial_states(ham_real, N)\n",
    "\n",
    "    print(\"VQTE initial state\", vqte_init_state)\n",
    "    print(\"Exact initial state:\",exact_diag_init_state)\n",
    "\n",
    "    # # Perform exact diagonalization\n",
    "    exact_diag_results, time_points = perform_exact_diag(gamma, F_L, F_R, dt, nt, exact_diag_init_state,exact_diag_ham,N,eps)\n",
    "\n",
    "\n",
    "    # # Perform VQTE simulation\n",
    "    vqte_results = perform_vqte(ham_real, ham_imag, vqte_init_state, dt, nt, ansatz, init_param_values,N)\n",
    "    # #Example VQE\n",
    "    # # Output results\n",
    "    #output_exact_diag_results(exact_diag_results, time, nt, eps, mu_L,mu_R,T_L, T_R, time_points)\n",
    "    output_results(vqte_results, exact_diag_results, time, nt, time_points)"
   ]
  },
  {
   "cell_type": "code",
   "execution_count": 3,
   "id": "8a6ff9c2",
   "metadata": {},
   "outputs": [
    {
     "name": "stdout",
     "output_type": "stream",
     "text": [
      "Ham imag SparsePauliOp(['I', 'Z', 'Z'],\n",
      "              coeffs=[ 0.025     +0.j,  0.00155441+0.j, -0.00112197+0.j])\n",
      "Ham real SparsePauliOp(['Z'],\n",
      "              coeffs=[1.+0.j])\n",
      "VQTE initial state Statevector([ 1.0000000e+00+2.44929360e-16j,\n",
      "             -2.4492936e-16+2.99951957e-32j],\n",
      "            dims=(2,))\n",
      "Exact initial state: [[ 1.00000000e+00+0.00000000e+00j -2.44929360e-16-8.99855870e-32j]\n",
      " [-2.44929360e-16+8.99855870e-32j  5.99903913e-32+1.53922791e-64j]]\n",
      "Reference number operator expectation value: (0.49135119574389113+0j)\n",
      "Is Hermitian: True\n",
      "Trace: (1+1.539227909829952e-64j) (should be 1)\n",
      "Eigenvalues: [0. 1.]\n",
      "All eigenvalues ≥ 0: True\n",
      "Purity (Tr(ρ²)): (1+0j) (should be 1 for pure state)\n",
      "Initial expectation value of number operator: [np.float64(5.99903913064743e-32)]\n",
      "Initial expectation values:\n",
      "  Qubit 0: 0.0000\n",
      "Step 1 out of 30\n"
     ]
    },
    {
     "ename": "AttributeError",
     "evalue": "'Statevector' object has no attribute 'norm'",
     "output_type": "error",
     "traceback": [
      "\u001b[31m---------------------------------------------------------------------------\u001b[39m",
      "\u001b[31mAttributeError\u001b[39m                            Traceback (most recent call last)",
      "\u001b[36mCell\u001b[39m\u001b[36m \u001b[39m\u001b[32mIn[3]\u001b[39m\u001b[32m, line 1\u001b[39m\n\u001b[32m----> \u001b[39m\u001b[32m1\u001b[39m \u001b[43mmain\u001b[49m\u001b[43m(\u001b[49m\u001b[43m)\u001b[49m\n",
      "\u001b[36mCell\u001b[39m\u001b[36m \u001b[39m\u001b[32mIn[2]\u001b[39m\u001b[32m, line 35\u001b[39m, in \u001b[36mmain\u001b[39m\u001b[34m()\u001b[39m\n\u001b[32m     31\u001b[39m exact_diag_results, time_points = perform_exact_diag(gamma, F_L, F_R, dt, nt, exact_diag_init_state,exact_diag_ham,N,eps)\n\u001b[32m     34\u001b[39m \u001b[38;5;66;03m# # Perform VQTE simulation\u001b[39;00m\n\u001b[32m---> \u001b[39m\u001b[32m35\u001b[39m vqte_results = \u001b[43mperform_vqte\u001b[49m\u001b[43m(\u001b[49m\u001b[43mham_real\u001b[49m\u001b[43m,\u001b[49m\u001b[43m \u001b[49m\u001b[43mham_imag\u001b[49m\u001b[43m,\u001b[49m\u001b[43m \u001b[49m\u001b[43mvqte_init_state\u001b[49m\u001b[43m,\u001b[49m\u001b[43m \u001b[49m\u001b[43mdt\u001b[49m\u001b[43m,\u001b[49m\u001b[43m \u001b[49m\u001b[43mnt\u001b[49m\u001b[43m,\u001b[49m\u001b[43m \u001b[49m\u001b[43mansatz\u001b[49m\u001b[43m,\u001b[49m\u001b[43m \u001b[49m\u001b[43minit_param_values\u001b[49m\u001b[43m,\u001b[49m\u001b[43mN\u001b[49m\u001b[43m)\u001b[49m\n\u001b[32m     36\u001b[39m \u001b[38;5;66;03m# #Example VQE\u001b[39;00m\n\u001b[32m     37\u001b[39m \u001b[38;5;66;03m# # Output results\u001b[39;00m\n\u001b[32m     38\u001b[39m \u001b[38;5;66;03m#output_exact_diag_results(exact_diag_results, time, nt, eps, mu_L,mu_R,T_L, T_R, time_points)\u001b[39;00m\n\u001b[32m     39\u001b[39m output_results(vqte_results, exact_diag_results, time, nt, time_points)\n",
      "\u001b[36mFile \u001b[39m\u001b[32mc:\\Users\\tessa\\OneDrive\\Desktop\\CS0449\\open-quantum-systems-simulation\\N_QubitsTwoReserviors\\vqteMethods.py:166\u001b[39m, in \u001b[36mperform_vqte\u001b[39m\u001b[34m(ham_real, ham_imag, init_state, dt, nt, ansatz, init_param_values, N)\u001b[39m\n\u001b[32m    164\u001b[39m \u001b[38;5;66;03m# --- Measurement ---\u001b[39;00m\n\u001b[32m    165\u001b[39m current_psi = Statevector(ansatz.assign_parameters(init_param_values))\n\u001b[32m--> \u001b[39m\u001b[32m166\u001b[39m normalized_psi = current_psi / \u001b[43mcurrent_psi\u001b[49m\u001b[43m.\u001b[49m\u001b[43mnorm\u001b[49m()\n\u001b[32m    168\u001b[39m \u001b[38;5;66;03m# Calculate expectation value for each qubit's number operator\u001b[39;00m\n\u001b[32m    169\u001b[39m \u001b[38;5;28;01mfor\u001b[39;00m i, op \u001b[38;5;129;01min\u001b[39;00m \u001b[38;5;28menumerate\u001b[39m(number_operators):\n",
      "\u001b[31mAttributeError\u001b[39m: 'Statevector' object has no attribute 'norm'"
     ]
    }
   ],
   "source": [
    "main()"
   ]
  }
 ],
 "metadata": {
  "kernelspec": {
   "display_name": "Python 3",
   "language": "python",
   "name": "python3"
  },
  "language_info": {
   "codemirror_mode": {
    "name": "ipython",
    "version": 3
   },
   "file_extension": ".py",
   "mimetype": "text/x-python",
   "name": "python",
   "nbconvert_exporter": "python",
   "pygments_lexer": "ipython3",
   "version": "3.11.9"
  }
 },
 "nbformat": 4,
 "nbformat_minor": 5
}
