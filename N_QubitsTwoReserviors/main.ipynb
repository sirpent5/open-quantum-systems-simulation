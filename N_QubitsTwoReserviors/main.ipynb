{
 "cells": [
  {
   "cell_type": "code",
   "execution_count": 1,
   "id": "cfd70f4e",
   "metadata": {},
   "outputs": [],
   "source": [
    "from imports import *\n",
    "from defs import numberop, Sigma_minus, Sigma_plus, Sigma_x, Sigma_y, Sigma_z\n",
    "from exactDiagMethods import Liouvillian, perform_exact_diag, build_exact_diag_hamiltonian, Enlarge_Matrix_site_j,output_exact_diag_results, Correlation_Matrix_i_Matrix_j, generate_random_state\n",
    "from globalMethods import verify_density_matrix, build_initial_states, output_results\n",
    "from vqteMethods import hamiltonian_generation_simple, hamiltonian_generation, perform_vqte"
   ]
  },
  {
   "cell_type": "code",
   "execution_count": null,
   "id": "d6622a9e",
   "metadata": {},
   "outputs": [],
   "source": [
    "\n",
    "def main():\n",
    "    # Initialize the simulation parameters\n",
    "    N = 2\n",
    "    gamma=0.05\n",
    "    eps=1\n",
    "    mu_L=2\n",
    "    mu_R=0.1\n",
    "    T_L = 50\n",
    "    T_R= 10\n",
    "    beta_L=1/T_L\n",
    "    beta_R=1/T_R\n",
    "    F_L = 1/(np.exp(beta_L*(eps-mu_L))+1)\n",
    "    F_R = 1/(np.exp(beta_R*(eps-mu_R))+1)\n",
    "\n",
    "    time = 300.0\n",
    "    dt = 0.1\n",
    "    nt = int(time/dt)\n",
    "    exact_diag_ham= build_exact_diag_hamiltonian(N)\n",
    "\n",
    "\n",
    "    exact_diag_init_state = generate_random_state(N)\n",
    "    print(exact_diag_init_state)\n",
    "    #ham_real, ham_imag = hamiltonian_generation(eps, gamma, F_L, F_R)\n",
    "\n",
    "    #vqte_init_state, exact_diag_init_state, ansatz, init_param_values = build_initial_states(ham_real)\n",
    "\n",
    "    # exact_diag_ham = build_exact_diag_hamiltonian(N,delta_list, J_list)\n",
    "\n",
    "    # print(vqte_init_state)\n",
    "    # print(exact_diag_init_state)\n",
    "\n",
    "    # # Perform exact diagonalization\n",
    "    exact_diag_results, time_points = perform_exact_diag(gamma, F_L, F_R, dt, nt, exact_diag_init_state,exact_diag_ham,N,eps)\n",
    "\n",
    "\n",
    "    # # Perform VQTE simulation\n",
    "    # vqte_results, trace_list = perform_vqte(ham_real, ham_imag, vqte_init_state, dt, nt, ansatz, init_param_values)\n",
    "    # #Example VQE\n",
    "    # # Output results\n",
    "    output_exact_diag_results(exact_diag_results, time, nt, eps, mu_L,mu_R,T_L, T_R, time_points)\n",
    "    # output_results(vqte_results, exact_diag_results, time, nt, time_points, trace_list, steadyState)"
   ]
  },
  {
   "cell_type": "code",
   "execution_count": 3,
   "id": "8a6ff9c2",
   "metadata": {},
   "outputs": [
    {
     "name": "stdout",
     "output_type": "stream",
     "text": [
      "[[ 0.32669421+0.j          0.06660412-0.1639059j   0.01351687-0.08445357j\n",
      "   0.08245023-0.07823838j]\n",
      " [ 0.06660412+0.1639059j   0.21379541+0.j          0.05702456-0.02635293j\n",
      "  -0.01522536+0.11471606j]\n",
      " [ 0.01351687+0.08445357j  0.05702456+0.02635293j  0.23383822+0.j\n",
      "   0.07420386+0.0438141j ]\n",
      " [ 0.08245023+0.07823838j -0.01522536-0.11471606j  0.07420386-0.0438141j\n",
      "   0.22567216+0.j        ]]\n"
     ]
    },
    {
     "ename": "TypeError",
     "evalue": "perform_exact_diag() missing 1 required positional argument: 'eps'",
     "output_type": "error",
     "traceback": [
      "\u001b[31m---------------------------------------------------------------------------\u001b[39m",
      "\u001b[31mTypeError\u001b[39m                                 Traceback (most recent call last)",
      "\u001b[36mCell\u001b[39m\u001b[36m \u001b[39m\u001b[32mIn[3]\u001b[39m\u001b[32m, line 1\u001b[39m\n\u001b[32m----> \u001b[39m\u001b[32m1\u001b[39m \u001b[43mmain\u001b[49m\u001b[43m(\u001b[49m\u001b[43m)\u001b[49m\n",
      "\u001b[36mCell\u001b[39m\u001b[36m \u001b[39m\u001b[32mIn[2]\u001b[39m\u001b[32m, line 33\u001b[39m, in \u001b[36mmain\u001b[39m\u001b[34m()\u001b[39m\n\u001b[32m     22\u001b[39m \u001b[38;5;28mprint\u001b[39m(exact_diag_init_state)\n\u001b[32m     23\u001b[39m \u001b[38;5;66;03m#ham_real, ham_imag = hamiltonian_generation(eps, gamma, F_L, F_R)\u001b[39;00m\n\u001b[32m     24\u001b[39m \n\u001b[32m     25\u001b[39m \u001b[38;5;66;03m#vqte_init_state, exact_diag_init_state, ansatz, init_param_values = build_initial_states(ham_real)\u001b[39;00m\n\u001b[32m   (...)\u001b[39m\u001b[32m     31\u001b[39m \n\u001b[32m     32\u001b[39m \u001b[38;5;66;03m# # Perform exact diagonalization\u001b[39;00m\n\u001b[32m---> \u001b[39m\u001b[32m33\u001b[39m exact_diag_results, time_points = \u001b[43mperform_exact_diag\u001b[49m\u001b[43m(\u001b[49m\u001b[43mgamma\u001b[49m\u001b[43m,\u001b[49m\u001b[43m \u001b[49m\u001b[43mF_L\u001b[49m\u001b[43m,\u001b[49m\u001b[43m \u001b[49m\u001b[43mF_R\u001b[49m\u001b[43m,\u001b[49m\u001b[43m \u001b[49m\u001b[43mdt\u001b[49m\u001b[43m,\u001b[49m\u001b[43m \u001b[49m\u001b[43mnt\u001b[49m\u001b[43m,\u001b[49m\u001b[43m \u001b[49m\u001b[43mexact_diag_init_state\u001b[49m\u001b[43m,\u001b[49m\u001b[43mexact_diag_ham\u001b[49m\u001b[43m,\u001b[49m\u001b[43mN\u001b[49m\u001b[43m)\u001b[49m\n\u001b[32m     36\u001b[39m \u001b[38;5;66;03m# # Perform VQTE simulation\u001b[39;00m\n\u001b[32m     37\u001b[39m \u001b[38;5;66;03m# vqte_results, trace_list = perform_vqte(ham_real, ham_imag, vqte_init_state, dt, nt, ansatz, init_param_values)\u001b[39;00m\n\u001b[32m     38\u001b[39m \u001b[38;5;66;03m# #Example VQE\u001b[39;00m\n\u001b[32m     39\u001b[39m \u001b[38;5;66;03m# # Output results\u001b[39;00m\n\u001b[32m     40\u001b[39m output_exact_diag_results(exact_diag_results, time, nt, eps, mu_L,mu_R,T_L, T_R, time_points)\n",
      "\u001b[31mTypeError\u001b[39m: perform_exact_diag() missing 1 required positional argument: 'eps'"
     ]
    }
   ],
   "source": [
    "main()"
   ]
  }
 ],
 "metadata": {
  "kernelspec": {
   "display_name": "Python 3",
   "language": "python",
   "name": "python3"
  },
  "language_info": {
   "codemirror_mode": {
    "name": "ipython",
    "version": 3
   },
   "file_extension": ".py",
   "mimetype": "text/x-python",
   "name": "python",
   "nbconvert_exporter": "python",
   "pygments_lexer": "ipython3",
   "version": "3.11.9"
  }
 },
 "nbformat": 4,
 "nbformat_minor": 5
}
