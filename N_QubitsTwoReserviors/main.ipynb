{
 "cells": [
  {
   "cell_type": "code",
   "execution_count": 1,
   "id": "cfd70f4e",
   "metadata": {},
   "outputs": [],
   "source": [
    "from imports import *\n",
    "from exactDiagMethods import build_exact_diag_hamiltonian, perform_exact_diag\n",
    "from globalMethods import  build_initial_states, output_results, output_vqte_results\n",
    "from vqteMethods import hamiltonian_generation, perform_vqte"
   ]
  },
  {
   "cell_type": "code",
   "execution_count": 2,
   "id": "d6622a9e",
   "metadata": {},
   "outputs": [],
   "source": [
    "\n",
    "def main():\n",
    "    # Initialize the simulation parameters\n",
    "    N = 1\n",
    "    gamma=0.05\n",
    "    eps= 1\n",
    "    mu_L=2\n",
    "    mu_R=0.1\n",
    "    T_L = 4\n",
    "    T_R= 5\n",
    "    beta_L=1/T_L\n",
    "    beta_R=1/T_R\n",
    "    F_L = 1/(np.exp(beta_L*(eps-mu_L))+1)\n",
    "    F_R = 1/(np.exp(beta_R*(eps-mu_R))+1)\n",
    "    J = 1\n",
    "  \n",
    "    time = 100.0\n",
    "    dt = 5.0\n",
    "    nt = int(time/dt)\n",
    "    exact_diag_ham= build_exact_diag_hamiltonian(N,J, eps)\n",
    "\n",
    "   \n",
    "    ham_real, ham_imag = hamiltonian_generation(N, eps, gamma, F_L, F_R, J)\n",
    "    print(\"Ham imag\", ham_imag)\n",
    "    print(\"Ham real\", ham_real)\n",
    "\n",
    "    vqte_init_state, exact_diag_init_state, ansatz, init_param_values = build_initial_states(ham_real,N)\n",
    "    exact_diag_results, time_points = perform_exact_diag(gamma, F_L, F_R, dt, nt, exact_diag_init_state,exact_diag_ham,N,eps)\n",
    "\n",
    "    print(\"VQTE initial state\", vqte_init_state)\n",
    "    print(\"Exact initial state:\",exact_diag_init_state)\n",
    "    vqte_results = perform_vqte(ham_real, ham_imag, vqte_init_state, dt, nt, ansatz, init_param_values,N)\n",
    "    output_vqte_results(vqte_results, time, nt)\n",
    "    # # Perform exact diagonalization\n",
    "\n",
    "   \n",
    "    # exact_diag_results = []\n",
    "    # time_points = []\n",
    "    # # Perform VQTE simulation\n",
    "\n",
    "    # # Output results\n",
    "    output_results(vqte_results, exact_diag_results, time, nt, time_points)"
   ]
  },
  {
   "cell_type": "code",
   "execution_count": 3,
   "id": "8a6ff9c2",
   "metadata": {},
   "outputs": [
    {
     "name": "stdout",
     "output_type": "stream",
     "text": [
      "Ham imag SparsePauliOp(['XX', 'YY', 'II', 'ZI', 'IZ'],\n",
      "              coeffs=[-0.025     +0.j,  0.025     +0.j,  0.05      +0.j, -0.01094559+0.j,\n",
      " -0.01362197+0.j])\n",
      "Ham real SparsePauliOp(['ZI', 'IZ', 'XY', 'YX'],\n",
      "              coeffs=[ 0.5       +0.j, -0.5       +0.j, -0.01729761+0.j, -0.01729761+0.j])\n",
      "2\n",
      "Initial expectation value of number operator: [np.complex128(-1.224646799147353e-16+8.998558695971146e-32j)]\n"
     ]
    },
    {
     "ename": "TypeError",
     "evalue": "unsupported format string passed to matrix.__format__",
     "output_type": "error",
     "traceback": [
      "\u001b[31m---------------------------------------------------------------------------\u001b[39m",
      "\u001b[31mTypeError\u001b[39m                                 Traceback (most recent call last)",
      "\u001b[36mCell\u001b[39m\u001b[36m \u001b[39m\u001b[32mIn[3]\u001b[39m\u001b[32m, line 1\u001b[39m\n\u001b[32m----> \u001b[39m\u001b[32m1\u001b[39m \u001b[43mmain\u001b[49m\u001b[43m(\u001b[49m\u001b[43m)\u001b[49m\n",
      "\u001b[36mCell\u001b[39m\u001b[36m \u001b[39m\u001b[32mIn[2]\u001b[39m\u001b[32m, line 27\u001b[39m, in \u001b[36mmain\u001b[39m\u001b[34m()\u001b[39m\n\u001b[32m     24\u001b[39m \u001b[38;5;28mprint\u001b[39m(\u001b[33m\"\u001b[39m\u001b[33mHam real\u001b[39m\u001b[33m\"\u001b[39m, ham_real)\n\u001b[32m     26\u001b[39m vqte_init_state, exact_diag_init_state, ansatz, init_param_values = build_initial_states(ham_real,N)\n\u001b[32m---> \u001b[39m\u001b[32m27\u001b[39m exact_diag_results, time_points = \u001b[43mperform_exact_diag\u001b[49m\u001b[43m(\u001b[49m\u001b[43mgamma\u001b[49m\u001b[43m,\u001b[49m\u001b[43m \u001b[49m\u001b[43mF_L\u001b[49m\u001b[43m,\u001b[49m\u001b[43m \u001b[49m\u001b[43mF_R\u001b[49m\u001b[43m,\u001b[49m\u001b[43m \u001b[49m\u001b[43mdt\u001b[49m\u001b[43m,\u001b[49m\u001b[43m \u001b[49m\u001b[43mnt\u001b[49m\u001b[43m,\u001b[49m\u001b[43m \u001b[49m\u001b[43mexact_diag_init_state\u001b[49m\u001b[43m,\u001b[49m\u001b[43mexact_diag_ham\u001b[49m\u001b[43m,\u001b[49m\u001b[43mN\u001b[49m\u001b[43m,\u001b[49m\u001b[43meps\u001b[49m\u001b[43m)\u001b[49m\n\u001b[32m     29\u001b[39m \u001b[38;5;28mprint\u001b[39m(\u001b[33m\"\u001b[39m\u001b[33mVQTE initial state\u001b[39m\u001b[33m\"\u001b[39m, vqte_init_state)\n\u001b[32m     30\u001b[39m \u001b[38;5;28mprint\u001b[39m(\u001b[33m\"\u001b[39m\u001b[33mExact initial state:\u001b[39m\u001b[33m\"\u001b[39m,exact_diag_init_state)\n",
      "\u001b[36mFile \u001b[39m\u001b[32mc:\\Users\\tessa\\OneDrive\\Desktop\\CS0449\\open-quantum-systems-simulation\\N_QubitsTwoReserviors\\exactDiagMethods.py:116\u001b[39m, in \u001b[36mperform_exact_diag\u001b[39m\u001b[34m(gamma, F_L, F_R, dt, nt, initial_state, H, N, eps)\u001b[39m\n\u001b[32m    114\u001b[39m     \u001b[38;5;28;01mfor\u001b[39;00m site \u001b[38;5;129;01min\u001b[39;00m \u001b[38;5;28mrange\u001b[39m(N):\n\u001b[32m    115\u001b[39m         expectation_value_history[site].append(np.trace(number_ops[site] @ rho_matrix))\n\u001b[32m--> \u001b[39m\u001b[32m116\u001b[39m         \u001b[38;5;28mprint\u001b[39m(\u001b[33mf\u001b[39m\u001b[33m\"\u001b[39m\u001b[33mStep \u001b[39m\u001b[38;5;132;01m{\u001b[39;00mstep\u001b[38;5;132;01m}\u001b[39;00m\u001b[33m: Tr(rho) = \u001b[39m\u001b[38;5;132;01m{\u001b[39;00mnp.trace(rho_matrix)\u001b[38;5;132;01m:\u001b[39;00m\u001b[33m.4f\u001b[39m\u001b[38;5;132;01m}\u001b[39;00m\u001b[33m, ⟨n⟩ = \u001b[39m\u001b[38;5;132;01m{\u001b[39;00m(number_ops[site]\u001b[38;5;250m \u001b[39m@\u001b[38;5;250m \u001b[39mrho_matrix)\u001b[38;5;132;01m:\u001b[39;00m\u001b[33m.4f\u001b[39m\u001b[38;5;132;01m}\u001b[39;00m\u001b[33m\"\u001b[39m)\n\u001b[32m    117\u001b[39m     time_points.append(step * dt)\n\u001b[32m    118\u001b[39m \u001b[38;5;28;01mreturn\u001b[39;00m expectation_value_history, time_points\n",
      "\u001b[31mTypeError\u001b[39m: unsupported format string passed to matrix.__format__"
     ]
    }
   ],
   "source": [
    "main()"
   ]
  }
 ],
 "metadata": {
  "kernelspec": {
   "display_name": "Python 3",
   "language": "python",
   "name": "python3"
  },
  "language_info": {
   "codemirror_mode": {
    "name": "ipython",
    "version": 3
   },
   "file_extension": ".py",
   "mimetype": "text/x-python",
   "name": "python",
   "nbconvert_exporter": "python",
   "pygments_lexer": "ipython3",
   "version": "3.11.9"
  }
 },
 "nbformat": 4,
 "nbformat_minor": 5
}
