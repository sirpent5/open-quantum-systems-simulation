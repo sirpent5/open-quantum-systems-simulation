{
 "cells": [
  {
   "cell_type": "code",
   "execution_count": 1,
   "id": "cfd70f4e",
   "metadata": {},
   "outputs": [],
   "source": [
    "from imports import *\n",
    "from exactDiagMethods import build_exact_diag_hamiltonian, perform_exact_diag\n",
    "from globalMethods import  build_initial_states, output_results\n",
    "from vqteMethods import hamiltonian_generation, perform_vqte\n",
    "\n",
    "# Don't forget to make F_L, F_R lists\n",
    "# Make everything work with eps list\n",
    "# Comment and delete old methods\n",
    "# Make sure all imports are relevant\n"
   ]
  },
  {
   "cell_type": "code",
   "execution_count": 2,
   "id": "d6622a9e",
   "metadata": {},
   "outputs": [],
   "source": [
    "\n",
    "def main():\n",
    "    # Initialize the simulation parameters\n",
    "    N = 1\n",
    "    \n",
    "    gamma_L= 1.0\n",
    "    gamma_R = 0\n",
    "\n",
    "    eps = 1\n",
    "    mu_L= 1\n",
    "    mu_R= 1\n",
    "\n",
    "    T_L = 1  \n",
    "    T_R= 1\n",
    "\n",
    "    beta_L=1/T_L\n",
    "    beta_R=1/T_R\n",
    "    F_L = 1/(np.exp(beta_L*(eps-mu_L))+1)\n",
    "    F_R = 1/(np.exp(beta_R*(eps-mu_R))+1)\n",
    "    J = 1\n",
    "\n",
    "    eps_list = []\n",
    "\n",
    "    for i in range(N):\n",
    "        eps_list.append(1)\n",
    "\n",
    "  \n",
    "    time = 0.5\n",
    "    dt = 0.1\n",
    "    nt = int(time/dt)\n",
    "\n",
    " \n",
    "    # Build hamiltonians\n",
    "    exact_diag_ham = build_exact_diag_hamiltonian(J, eps_list)\n",
    "\n",
    "    print(\"Exact Ham \", exact_diag_ham)\n",
    "    ham_real, ham_imag = hamiltonian_generation(N, eps_list, gamma_L, gamma_R, F_L, F_R,J)\n",
    "   \n",
    "    print(\"Ham real: \", ham_real)\n",
    "    print(\"Ham imag: \", ham_imag)\n",
    "    # Build initial states\n",
    "    vqte_init_state, exact_diag_init_state, ansatz, init_param_values = build_initial_states(ham_real)\n",
    "\n",
    "\n",
    "    # Calculate Exact Diag Results\n",
    "    exact_diag_results, time_points = perform_exact_diag(gamma_L,F_L, gamma_R, F_R, dt, nt, exact_diag_init_state,exact_diag_ham, N)\n",
    "\n",
    "    # Calculate VQTE Results\n",
    "    vqte_results = perform_vqte(ham_real, ham_imag, vqte_init_state, dt, nt, ansatz, init_param_values,N)\n",
    "    \n",
    "    # Output results\n",
    "    output_results(vqte_results, exact_diag_results, time, nt, time_points)\n",
    "\n",
    " \n",
    "    \n",
    "    "
   ]
  },
  {
   "cell_type": "code",
   "execution_count": 3,
   "id": "8a6ff9c2",
   "metadata": {},
   "outputs": [
    {
     "name": "stdout",
     "output_type": "stream",
     "text": [
      "Exact Ham  [[0.+0.j 0.+0.j]\n",
      " [0.+0.j 1.+0.j]]\n",
      "SparsePauliOp(['ZI', 'ZI', 'XY', 'YX', 'XY', 'YX'],\n",
      "              coeffs=[-0.5+0.j,  0.5+0.j, -0. +0.j, -0. +0.j, -0. +0.j, -0. +0.j])\n",
      "Ham real:  SparsePauliOp(['ZI', 'ZI', 'XY', 'YX', 'XY', 'YX'],\n",
      "              coeffs=[-0.5+0.j,  0.5+0.j, -0. +0.j, -0. +0.j, -0. +0.j, -0. +0.j])\n",
      "Ham imag:  SparsePauliOp(['XX', 'YY', 'XX', 'YY', 'II', 'ZI', 'IZ'],\n",
      "              coeffs=[-0.25+0.j,  0.25+0.j,  0.  +0.j,  0.  +0.j,  0.5 +0.j, -0.  +0.j,\n",
      " -0.  +0.j])\n"
     ]
    },
    {
     "ename": "ValueError",
     "evalue": "matmul: Input operand 1 has a mismatch in its core dimension 0, with gufunc signature (n?,k),(k,m?)->(n?,m?) (size 4 is different from 2)",
     "output_type": "error",
     "traceback": [
      "\u001b[31m---------------------------------------------------------------------------\u001b[39m",
      "\u001b[31mValueError\u001b[39m                                Traceback (most recent call last)",
      "\u001b[36mCell\u001b[39m\u001b[36m \u001b[39m\u001b[32mIn[3]\u001b[39m\u001b[32m, line 1\u001b[39m\n\u001b[32m----> \u001b[39m\u001b[32m1\u001b[39m \u001b[43mmain\u001b[49m\u001b[43m(\u001b[49m\u001b[43m)\u001b[49m\n",
      "\u001b[36mCell\u001b[39m\u001b[36m \u001b[39m\u001b[32mIn[2]\u001b[39m\u001b[32m, line 45\u001b[39m, in \u001b[36mmain\u001b[39m\u001b[34m()\u001b[39m\n\u001b[32m     41\u001b[39m vqte_init_state, exact_diag_init_state, ansatz, init_param_values = build_initial_states(ham_real)\n\u001b[32m     44\u001b[39m \u001b[38;5;66;03m# Calculate Exact Diag Results\u001b[39;00m\n\u001b[32m---> \u001b[39m\u001b[32m45\u001b[39m exact_diag_results, time_points = \u001b[43mperform_exact_diag\u001b[49m\u001b[43m(\u001b[49m\u001b[43mgamma_L\u001b[49m\u001b[43m,\u001b[49m\u001b[43mF_L\u001b[49m\u001b[43m,\u001b[49m\u001b[43m \u001b[49m\u001b[43mgamma_R\u001b[49m\u001b[43m,\u001b[49m\u001b[43m \u001b[49m\u001b[43mF_R\u001b[49m\u001b[43m,\u001b[49m\u001b[43m \u001b[49m\u001b[43mdt\u001b[49m\u001b[43m,\u001b[49m\u001b[43m \u001b[49m\u001b[43mnt\u001b[49m\u001b[43m,\u001b[49m\u001b[43m \u001b[49m\u001b[43mexact_diag_init_state\u001b[49m\u001b[43m,\u001b[49m\u001b[43mexact_diag_ham\u001b[49m\u001b[43m,\u001b[49m\u001b[43m \u001b[49m\u001b[43mN\u001b[49m\u001b[43m)\u001b[49m\n\u001b[32m     47\u001b[39m \u001b[38;5;66;03m# Calculate VQTE Results\u001b[39;00m\n\u001b[32m     48\u001b[39m vqte_results = perform_vqte(ham_real, ham_imag, vqte_init_state, dt, nt, ansatz, init_param_values,N)\n",
      "\u001b[36mFile \u001b[39m\u001b[32mc:\\Users\\tessa\\OneDrive\\Desktop\\CS0449\\open-quantum-systems-simulation\\N_QubitsTwoReserviors\\exactDiagMethods.py:149\u001b[39m, in \u001b[36mperform_exact_diag\u001b[39m\u001b[34m(gamma_L, F_L, gamma_R, F_R, dt, nt, initial_state, H, N)\u001b[39m\n\u001b[32m    146\u001b[39m rho_matrix = initial_state.copy()\n\u001b[32m    148\u001b[39m \u001b[38;5;28;01mfor\u001b[39;00m site \u001b[38;5;129;01min\u001b[39;00m \u001b[38;5;28mrange\u001b[39m(N):\n\u001b[32m--> \u001b[39m\u001b[32m149\u001b[39m     exp_val = np.real(np.trace(\u001b[43mnumber_ops\u001b[49m\u001b[43m[\u001b[49m\u001b[43msite\u001b[49m\u001b[43m]\u001b[49m\u001b[43m \u001b[49m\u001b[43m@\u001b[49m\u001b[43m \u001b[49m\u001b[43mrho_matrix\u001b[49m))\n\u001b[32m    150\u001b[39m     expectation_value_history[site].append(exp_val)\n\u001b[32m    153\u001b[39m \u001b[38;5;66;03m# Time evolution loop\u001b[39;00m\n",
      "\u001b[31mValueError\u001b[39m: matmul: Input operand 1 has a mismatch in its core dimension 0, with gufunc signature (n?,k),(k,m?)->(n?,m?) (size 4 is different from 2)"
     ]
    }
   ],
   "source": [
    "main()"
   ]
  }
 ],
 "metadata": {
  "kernelspec": {
   "display_name": "Python 3",
   "language": "python",
   "name": "python3"
  },
  "language_info": {
   "codemirror_mode": {
    "name": "ipython",
    "version": 3
   },
   "file_extension": ".py",
   "mimetype": "text/x-python",
   "name": "python",
   "nbconvert_exporter": "python",
   "pygments_lexer": "ipython3",
   "version": "3.11.9"
  }
 },
 "nbformat": 4,
 "nbformat_minor": 5
}
