{
 "cells": [
  {
   "cell_type": "code",
   "execution_count": 1,
   "id": "cfd70f4e",
   "metadata": {},
   "outputs": [],
   "source": [
    "from imports import *\n",
    "from exactDiagMethods import build_exact_diag_hamiltonian, perform_exact_diag\n",
    "from globalMethods import  build_initial_states, output_results\n",
    "from vqteMethods import hamiltonian_generation, perform_vqte\n",
    "\n",
    "# Don't forget to make F_L, F_R lists\n",
    "# Make everything work with eps list\n",
    "# Comment and delete old methods\n",
    "# Make sure all imports are relevant\n"
   ]
  },
  {
   "cell_type": "code",
   "execution_count": 2,
   "id": "d6622a9e",
   "metadata": {},
   "outputs": [],
   "source": [
    "def main():\n",
    "    # Initialize the simulation parameters\n",
    "    N = 2\n",
    "    gamma_L= 1.0\n",
    "    gamma_R = 1.0\n",
    "    eps = 1\n",
    "    mu_L= 1\n",
    "    mu_R= 1\n",
    "    T_L = 10   \n",
    "    T_R= 100\n",
    "    beta_L=1/T_L\n",
    "    beta_R=1/T_R\n",
    "    F_L = 1/(np.exp(beta_L*(eps-mu_L))+1)\n",
    "    F_R = 1/(np.exp(beta_R*(eps-mu_R))+1)\n",
    "    J = 1\n",
    "\n",
    "    eps_list = []\n",
    "\n",
    "    for i in range(N):\n",
    "        eps_list.append(1)\n",
    "\n",
    "  \n",
    "    time = 3.0\n",
    "    dt = 0.01\n",
    "    nt = int(time/dt)\n",
    "\n",
    "    \n",
    "\n",
    " \n",
    "\n",
    "    exact_diag_ham = build_exact_diag_hamiltonian(J, eps_list)\n",
    "\n",
    "    print(\"Exact Ham\", exact_diag_ham)\n",
    "\n",
    "   #printexact_diag_hamiltonian)\n",
    "    ham_real, ham_imag = hamiltonian_generation(N, eps_list, gamma_L, gamma_R, F_L, F_R,J)\n",
    "    print(\"Ham real\", ham_real)\n",
    "    print(\"Ham imag\", ham_imag)\n",
    "\n",
    "\n",
    "\n",
    "    vqte_init_state, exact_diag_init_state, ansatz, init_param_values = build_initial_states(ham_real)\n",
    "\n",
    "\n",
    "    exact_diag_results = perform_exact_diag(gamma_L,F_L, gamma_R, F_R, dt, nt, exact_diag_init_state,exact_diag_ham, N)\n",
    "    print(exact_diag_results)\n",
    " \n",
    "    vqte_results = perform_vqte(ham_real, ham_imag, vqte_init_state, dt, nt, ansatz, init_param_values,N)\n",
    "    \n",
    "    # # Output results\n",
    "    output_results(vqte_results, exact_diag_results, time, nt)"
   ]
  },
  {
   "cell_type": "code",
   "execution_count": 3,
   "id": "8a6ff9c2",
   "metadata": {},
   "outputs": [
    {
     "name": "stdout",
     "output_type": "stream",
     "text": [
      "Exact Ham [[0.+0.j 0.+0.j 0.+0.j 0.+0.j]\n",
      " [0.+0.j 1.+0.j 2.+0.j 0.+0.j]\n",
      " [0.+0.j 2.+0.j 1.+0.j 0.+0.j]\n",
      " [0.+0.j 0.+0.j 0.+0.j 2.+0.j]]\n"
     ]
    },
    {
     "ename": "ValueError",
     "evalue": "operands could not be broadcast together with shapes (10,) (8,) ",
     "output_type": "error",
     "traceback": [
      "\u001b[31m---------------------------------------------------------------------------\u001b[39m",
      "\u001b[31mValueError\u001b[39m                                Traceback (most recent call last)",
      "\u001b[36mCell\u001b[39m\u001b[36m \u001b[39m\u001b[32mIn[3]\u001b[39m\u001b[32m, line 1\u001b[39m\n\u001b[32m----> \u001b[39m\u001b[32m1\u001b[39m \u001b[43mmain\u001b[49m\u001b[43m(\u001b[49m\u001b[43m)\u001b[49m\n",
      "\u001b[36mCell\u001b[39m\u001b[36m \u001b[39m\u001b[32mIn[2]\u001b[39m\u001b[32m, line 36\u001b[39m, in \u001b[36mmain\u001b[39m\u001b[34m()\u001b[39m\n\u001b[32m     33\u001b[39m  \u001b[38;5;28mprint\u001b[39m(\u001b[33m\"\u001b[39m\u001b[33mExact Ham\u001b[39m\u001b[33m\"\u001b[39m, exact_diag_ham)\n\u001b[32m     35\u001b[39m \u001b[38;5;66;03m#printexact_diag_hamiltonian)\u001b[39;00m\n\u001b[32m---> \u001b[39m\u001b[32m36\u001b[39m  ham_real, ham_imag = \u001b[43mhamiltonian_generation\u001b[49m\u001b[43m(\u001b[49m\u001b[43mN\u001b[49m\u001b[43m,\u001b[49m\u001b[43m \u001b[49m\u001b[43meps_list\u001b[49m\u001b[43m,\u001b[49m\u001b[43m \u001b[49m\u001b[43mgamma_L\u001b[49m\u001b[43m,\u001b[49m\u001b[43m \u001b[49m\u001b[43mgamma_R\u001b[49m\u001b[43m,\u001b[49m\u001b[43m \u001b[49m\u001b[43mF_L\u001b[49m\u001b[43m,\u001b[49m\u001b[43m \u001b[49m\u001b[43mF_R\u001b[49m\u001b[43m,\u001b[49m\u001b[43mJ\u001b[49m\u001b[43m)\u001b[49m\n\u001b[32m     37\u001b[39m  \u001b[38;5;28mprint\u001b[39m(\u001b[33m\"\u001b[39m\u001b[33mHam real\u001b[39m\u001b[33m\"\u001b[39m, ham_real)\n\u001b[32m     38\u001b[39m  \u001b[38;5;28mprint\u001b[39m(\u001b[33m\"\u001b[39m\u001b[33mHam imag\u001b[39m\u001b[33m\"\u001b[39m, ham_imag)\n",
      "\u001b[36mFile \u001b[39m\u001b[32mc:\\Users\\tessa\\OneDrive\\Desktop\\CS0449\\open-quantum-systems-simulation\\N_QubitsTwoReserviors\\vqteMethods.py:179\u001b[39m, in \u001b[36mhamiltonian_generation\u001b[39m\u001b[34m(n_sites, eps, gamma_L, gamma_R, F_L, F_R, J)\u001b[39m\n\u001b[32m    174\u001b[39m pauli_im.append(\u001b[33m'\u001b[39m\u001b[33m'\u001b[39m.join(yy_str))\n\u001b[32m    175\u001b[39m coeffs_im.append(\u001b[32m0.25\u001b[39m*gamma_R)\n\u001b[32m--> \u001b[39m\u001b[32m179\u001b[39m \u001b[38;5;28;01mreturn\u001b[39;00m \u001b[43mSparsePauliOp\u001b[49m\u001b[43m(\u001b[49m\u001b[43mpauli_re\u001b[49m\u001b[43m,\u001b[49m\u001b[43m \u001b[49m\u001b[43mcoeffs\u001b[49m\u001b[43m=\u001b[49m\u001b[43mnp\u001b[49m\u001b[43m.\u001b[49m\u001b[43marray\u001b[49m\u001b[43m(\u001b[49m\u001b[43mcoeffs_re\u001b[49m\u001b[43m)\u001b[49m\u001b[43m)\u001b[49m, SparsePauliOp(pauli_im, coeffs=np.array(coeffs_im))\n",
      "\u001b[36mFile \u001b[39m\u001b[32m~\\AppData\\Local\\Packages\\PythonSoftwareFoundation.Python.3.11_qbz5n2kfra8p0\\LocalCache\\local-packages\\Python311\\site-packages\\qiskit\\quantum_info\\operators\\symplectic\\sparse_pauli_op.py:175\u001b[39m, in \u001b[36mSparsePauliOp.__init__\u001b[39m\u001b[34m(self, data, coeffs, ignore_pauli_phase, copy)\u001b[39m\n\u001b[32m    172\u001b[39m lookup = np.array([\u001b[32m1\u001b[39m + \u001b[32m0\u001b[39mj, -\u001b[32m1\u001b[39mj, -\u001b[32m1\u001b[39m + \u001b[32m0\u001b[39mj, \u001b[32m1\u001b[39mj], dtype=coeffs.dtype)\n\u001b[32m    174\u001b[39m vals = lookup[exponent]\n\u001b[32m--> \u001b[39m\u001b[32m175\u001b[39m \u001b[38;5;28mself\u001b[39m._coeffs = \u001b[43mvals\u001b[49m\u001b[43m \u001b[49m\u001b[43m*\u001b[49m\u001b[43m \u001b[49m\u001b[43mcoeffs\u001b[49m\n\u001b[32m    177\u001b[39m \u001b[38;5;66;03m# Update pauli_list phase\u001b[39;00m\n\u001b[32m    178\u001b[39m pauli_list._phase = np.mod(count_y, \u001b[32m4\u001b[39m)\n",
      "\u001b[31mValueError\u001b[39m: operands could not be broadcast together with shapes (10,) (8,) "
     ]
    }
   ],
   "source": [
    "main()"
   ]
  },
  {
   "cell_type": "markdown",
   "id": "96b32e58",
   "metadata": {},
   "source": []
  }
 ],
 "metadata": {
  "kernelspec": {
   "display_name": "Python 3",
   "language": "python",
   "name": "python3"
  },
  "language_info": {
   "codemirror_mode": {
    "name": "ipython",
    "version": 3
   },
   "file_extension": ".py",
   "mimetype": "text/x-python",
   "name": "python",
   "nbconvert_exporter": "python",
   "pygments_lexer": "ipython3",
   "version": "3.11.9"
  }
 },
 "nbformat": 4,
 "nbformat_minor": 5
}
