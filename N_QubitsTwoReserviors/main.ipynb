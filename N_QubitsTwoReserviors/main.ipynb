{
 "cells": [
  {
   "cell_type": "code",
   "execution_count": 1,
   "id": "cfd70f4e",
   "metadata": {},
   "outputs": [],
   "source": [
    "from imports import *\n",
    "from exactDiagMethods import build_exact_diag_hamiltonian, perform_exact_diag\n",
    "from globalMethods import  build_initial_states, output_results\n",
    "from vqteMethods import hamiltonian_generation, perform_vqte"
   ]
  },
  {
   "cell_type": "code",
   "execution_count": 2,
   "id": "d6622a9e",
   "metadata": {},
   "outputs": [],
   "source": [
    "\n",
    "def main():\n",
    "    # Initialize the simulation parameters\n",
    "    N = 3\n",
    "    gamma=0.5\n",
    "    eps= 5\n",
    "    mu_L=0.5\n",
    "    mu_R=0.2\n",
    "    T_L = 100\n",
    "    T_R= 1\n",
    "    beta_L=1/T_L\n",
    "    beta_R=1/T_R\n",
    "    F_L = 1/(np.exp(beta_L*(eps-mu_L))+1)\n",
    "    F_R = 1/(np.exp(beta_R*(eps-mu_R))+1)\n",
    "    J = 1\n",
    "  \n",
    "    time = 80.0\n",
    "    dt = 1.0\n",
    "    nt = int(time/dt)\n",
    "    exact_diag_ham= build_exact_diag_hamiltonian(N,J, eps)\n",
    "    print(\"Exact Ham\", exact_diag_ham)\n",
    "\n",
    "   \n",
    "    ham_real, ham_imag = hamiltonian_generation(N, eps, gamma, F_L, F_R,J)\n",
    "    print(\"Ham imag\", ham_imag)\n",
    "    print(\"Ham real\", ham_real)\n",
    "\n",
    "    vqte_init_state, exact_diag_init_state, ansatz, init_param_values = build_initial_states(ham_real,N)\n",
    "    exact_diag_results, time_points = perform_exact_diag(gamma, F_L, F_R, dt, nt, exact_diag_init_state,exact_diag_ham,N,eps)\n",
    "\n",
    "    print(\"VQTE initial state\", vqte_init_state)\n",
    "    print(\"Exact initial state:\",exact_diag_init_state)\n",
    "    vqte_results = perform_vqte(ham_real, ham_imag, vqte_init_state, dt, nt, ansatz, init_param_values,N)\n",
    "\n",
    "    # # Output results\n",
    "    output_results(vqte_results, exact_diag_results, time, nt, time_points)"
   ]
  },
  {
   "cell_type": "code",
   "execution_count": 3,
   "id": "8a6ff9c2",
   "metadata": {},
   "outputs": [
    {
     "name": "stdout",
     "output_type": "stream",
     "text": [
      "Exact Ham [[ 0.+0.j  0.+0.j  0.+0.j  0.+0.j  0.+0.j  0.+0.j  0.+0.j  0.+0.j]\n",
      " [ 0.+0.j  5.+0.j  1.+0.j  0.+0.j  0.+0.j  0.+0.j  0.+0.j  0.+0.j]\n",
      " [ 0.+0.j  1.+0.j  5.+0.j  0.+0.j  1.+0.j  0.+0.j  0.+0.j  0.+0.j]\n",
      " [ 0.+0.j  0.+0.j  0.+0.j 10.+0.j  0.+0.j  1.+0.j  0.+0.j  0.+0.j]\n",
      " [ 0.+0.j  0.+0.j  1.+0.j  0.+0.j  5.+0.j  0.+0.j  0.+0.j  0.+0.j]\n",
      " [ 0.+0.j  0.+0.j  0.+0.j  1.+0.j  0.+0.j 10.+0.j -1.+0.j  0.+0.j]\n",
      " [ 0.+0.j  0.+0.j  0.+0.j  0.+0.j  0.+0.j -1.+0.j 10.+0.j  0.+0.j]\n",
      " [ 0.+0.j  0.+0.j  0.+0.j  0.+0.j  0.+0.j  0.+0.j  0.+0.j 15.+0.j]]\n",
      "Ham imag SparsePauliOp(['XXIIII', 'YYIIII', 'IXXIII', 'IYYIII', 'IIXXII', 'IIYYII', 'IIIXXI', 'IIIYYI', 'IIIIXX', 'IIIIYY', 'IIIIII', 'ZIIIII', 'IIIIIZ'],\n",
      "              coeffs=[-0.25      +0.j,  0.25      +0.j, -0.25      +0.j,  0.25      +0.j,\n",
      " -0.25      +0.j,  0.25      +0.j, -0.25      +0.j,  0.25      +0.j,\n",
      " -0.25      +0.j,  0.25      +0.j,  0.5       +0.j, -0.12781203+0.j,\n",
      " -0.24795936+0.j])\n",
      "Ham real SparsePauliOp(['ZIIIII', 'IZIIII', 'IIZIII', 'IIIZII', 'IIIIZI', 'IIIIIZ', 'XYIIII', 'YXIIII', 'IXYIII', 'IYXIII', 'IIXYII', 'IIYXII', 'IIIXYI', 'IIIYXI', 'IIIIXY', 'IIIIYX'],\n",
      "              coeffs=[ 2.5+0.j, -2.5+0.j,  2.5+0.j, -2.5+0.j,  2.5+0.j, -2.5+0.j,  1. +0.j,\n",
      "  1. +0.j,  1. +0.j,  1. +0.j,  1. +0.j,  1. +0.j,  1. +0.j,  1. +0.j,\n",
      "  1. +0.j,  1. +0.j])\n",
      "6\n",
      "\n",
      "=== Debug: Initial Checks ===\n",
      "Initial state trace: (1+1.507565060797785e-63j)\n",
      "Superoperator shape: (64, 64) (expected: 64x64)\n",
      "\n",
      "!!! Main Procedure Error !!!\n",
      "cannot reshape array of size 4096 into shape (64,1)\n",
      "\n",
      "=== Debug Info ===\n",
      "Hamiltonian shape: (8, 8)\n",
      "H Hermitian check: True\n",
      "Superoperator shape: (64, 64)\n"
     ]
    },
    {
     "ename": "ValueError",
     "evalue": "cannot reshape array of size 4096 into shape (64,1)",
     "output_type": "error",
     "traceback": [
      "\u001b[31m---------------------------------------------------------------------------\u001b[39m",
      "\u001b[31mValueError\u001b[39m                                Traceback (most recent call last)",
      "\u001b[36mCell\u001b[39m\u001b[36m \u001b[39m\u001b[32mIn[3]\u001b[39m\u001b[32m, line 1\u001b[39m\n\u001b[32m----> \u001b[39m\u001b[32m1\u001b[39m \u001b[43mmain\u001b[49m\u001b[43m(\u001b[49m\u001b[43m)\u001b[49m\n",
      "\u001b[36mCell\u001b[39m\u001b[36m \u001b[39m\u001b[32mIn[2]\u001b[39m\u001b[32m, line 28\u001b[39m, in \u001b[36mmain\u001b[39m\u001b[34m()\u001b[39m\n\u001b[32m     25\u001b[39m \u001b[38;5;28mprint\u001b[39m(\u001b[33m\"\u001b[39m\u001b[33mHam real\u001b[39m\u001b[33m\"\u001b[39m, ham_real)\n\u001b[32m     27\u001b[39m vqte_init_state, exact_diag_init_state, ansatz, init_param_values = build_initial_states(ham_real,N)\n\u001b[32m---> \u001b[39m\u001b[32m28\u001b[39m exact_diag_results, time_points = \u001b[43mperform_exact_diag\u001b[49m\u001b[43m(\u001b[49m\u001b[43mgamma\u001b[49m\u001b[43m,\u001b[49m\u001b[43m \u001b[49m\u001b[43mF_L\u001b[49m\u001b[43m,\u001b[49m\u001b[43m \u001b[49m\u001b[43mF_R\u001b[49m\u001b[43m,\u001b[49m\u001b[43m \u001b[49m\u001b[43mdt\u001b[49m\u001b[43m,\u001b[49m\u001b[43m \u001b[49m\u001b[43mnt\u001b[49m\u001b[43m,\u001b[49m\u001b[43m \u001b[49m\u001b[43mexact_diag_init_state\u001b[49m\u001b[43m,\u001b[49m\u001b[43mexact_diag_ham\u001b[49m\u001b[43m,\u001b[49m\u001b[43mN\u001b[49m\u001b[43m,\u001b[49m\u001b[43meps\u001b[49m\u001b[43m)\u001b[49m\n\u001b[32m     30\u001b[39m \u001b[38;5;28mprint\u001b[39m(\u001b[33m\"\u001b[39m\u001b[33mVQTE initial state\u001b[39m\u001b[33m\"\u001b[39m, vqte_init_state)\n\u001b[32m     31\u001b[39m \u001b[38;5;28mprint\u001b[39m(\u001b[33m\"\u001b[39m\u001b[33mExact initial state:\u001b[39m\u001b[33m\"\u001b[39m,exact_diag_init_state)\n",
      "\u001b[36mFile \u001b[39m\u001b[32mc:\\Users\\tessa\\OneDrive\\Desktop\\CS0449\\open-quantum-systems-simulation\\N_QubitsTwoReserviors\\exactDiagMethods.py:152\u001b[39m, in \u001b[36mperform_exact_diag\u001b[39m\u001b[34m(gamma, F_L, F_R, dt, nt, initial_state, H, N, eps)\u001b[39m\n\u001b[32m    149\u001b[39m U = scipy.linalg.expm(Superoperator * dt)\n\u001b[32m    151\u001b[39m \u001b[38;5;66;03m# Initialize state (column-major vectorization)\u001b[39;00m\n\u001b[32m--> \u001b[39m\u001b[32m152\u001b[39m rho_t = \u001b[43minitial_state\u001b[49m\u001b[43m.\u001b[49m\u001b[43mreshape\u001b[49m\u001b[43m(\u001b[49m\u001b[43md\u001b[49m\u001b[43m*\u001b[49m\u001b[43m*\u001b[49m\u001b[32;43m2\u001b[39;49m\u001b[43m,\u001b[49m\u001b[43m \u001b[49m\u001b[32;43m1\u001b[39;49m\u001b[43m,\u001b[49m\u001b[43m \u001b[49m\u001b[43morder\u001b[49m\u001b[43m=\u001b[49m\u001b[33;43m'\u001b[39;49m\u001b[33;43mF\u001b[39;49m\u001b[33;43m'\u001b[39;49m\u001b[43m)\u001b[49m\n\u001b[32m    153\u001b[39m number_ops = build_number_op_list(N)\n\u001b[32m    154\u001b[39m expectation_value_history = [[] \u001b[38;5;28;01mfor\u001b[39;00m _ \u001b[38;5;129;01min\u001b[39;00m \u001b[38;5;28mrange\u001b[39m(N)]\n",
      "\u001b[31mValueError\u001b[39m: cannot reshape array of size 4096 into shape (64,1)"
     ]
    }
   ],
   "source": [
    "main()"
   ]
  }
 ],
 "metadata": {
  "kernelspec": {
   "display_name": "Python 3",
   "language": "python",
   "name": "python3"
  },
  "language_info": {
   "codemirror_mode": {
    "name": "ipython",
    "version": 3
   },
   "file_extension": ".py",
   "mimetype": "text/x-python",
   "name": "python",
   "nbconvert_exporter": "python",
   "pygments_lexer": "ipython3",
   "version": "3.11.9"
  }
 },
 "nbformat": 4,
 "nbformat_minor": 5
}
