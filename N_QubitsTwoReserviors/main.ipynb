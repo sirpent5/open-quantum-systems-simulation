{
 "cells": [
  {
   "cell_type": "code",
   "execution_count": 5,
   "id": "cfd70f4e",
   "metadata": {},
   "outputs": [],
   "source": [
    "from imports import *\n",
    "from defs import numberop, Sigma_minus, Sigma_plus, Sigma_x, Sigma_y, Sigma_z\n",
    "from exactDiagMethods import Liouvillian, perform_exact_diag, build_exact_diag_hamiltonian, Enlarge_Matrix_site_j,output_exact_diag_results, Correlation_Matrix_i_Matrix_j\n",
    "from globalMethods import verify_density_matrix, build_initial_states, output_results\n",
    "from vqteMethods import hamiltonian_generation_simple, hamiltonian_generation, perform_vqte"
   ]
  },
  {
   "cell_type": "code",
   "execution_count": null,
   "id": "d6622a9e",
   "metadata": {},
   "outputs": [],
   "source": [
    "\n",
    "def main():\n",
    "    # Initialize the simulation parameters\n",
    "    N= 6\n",
    "    gamma=0.05\n",
    "    eps=1\n",
    "    mu_L=2\n",
    "    J = 1\n",
    "    mu_R=0.1\n",
    "    T_L = 2\n",
    "    T_R= 10\n",
    "    beta_L=1/T_L\n",
    "    beta_R=1/T_R\n",
    "    F_L = 1/(np.exp(beta_L*(eps-mu_L))+1)\n",
    "    F_R = 1/(np.exp(beta_R*(eps-mu_R))+1)\n",
    "\n",
    "\n",
    "    time = 10.0\n",
    "    dt = 0.1\n",
    "    nt = int(time/dt)\n",
    "    hamiltonian_matrix = build_exact_diag_hamiltonian(N, eps, J)\n",
    "    print(hamiltonian_matrix)\n",
    "    # ham_real, ham_imag = hamiltonian_generation(eps, gamma, F_L, F_R)\n",
    "    # vqte_init_state, exact_diag_init_state, ansatz, init_param_values = build_initial_states(ham_real)\n",
    "    # exact_diag_ham = build_exact_diag_hamiltonian(N,eps, J)\n",
    "\n",
    "    # print(vqte_init_state)\n",
    "    # print(exact_diag_init_state)\n",
    "\n",
    "    # # Perform exact diagonalization\n",
    "    # exact_diag_results, time_points, steadyState = perform_exact_diag(gamma, F_L, F_R, dt, nt, exact_diag_init_state,exact_diag_ham,N)\n",
    "\n",
    "    # # Perform VQTE simulation\n",
    "    # vqte_results, trace_list = perform_vqte(ham_real, ham_imag, vqte_init_state, dt, nt, ansatz, init_param_values)\n",
    "    # #Example VQE\n",
    "    # # Output results\n",
    "    # #output_exact_diag_results(exact_diag_results, time, nt, eps, mu_L,mu_R,T_L, T_R, time_points, steadyState)\n",
    "    # output_results(vqte_results, exact_diag_results, time, nt, time_points, trace_list, steadyState)"
   ]
  },
  {
   "cell_type": "code",
   "execution_count": 7,
   "id": "8a6ff9c2",
   "metadata": {},
   "outputs": [
    {
     "name": "stdout",
     "output_type": "stream",
     "text": [
      "[[1.+0.j 1.+0.j 0.+0.j 0.+0.j 0.+0.j 0.+0.j]\n",
      " [1.+0.j 1.+0.j 1.+0.j 0.+0.j 0.+0.j 0.+0.j]\n",
      " [0.+0.j 1.+0.j 1.+0.j 1.+0.j 0.+0.j 0.+0.j]\n",
      " [0.+0.j 0.+0.j 1.+0.j 1.+0.j 1.+0.j 0.+0.j]\n",
      " [0.+0.j 0.+0.j 0.+0.j 1.+0.j 1.+0.j 1.+0.j]\n",
      " [0.+0.j 0.+0.j 0.+0.j 0.+0.j 1.+0.j 1.+0.j]]\n"
     ]
    }
   ],
   "source": [
    "main()"
   ]
  }
 ],
 "metadata": {
  "kernelspec": {
   "display_name": "Python 3",
   "language": "python",
   "name": "python3"
  },
  "language_info": {
   "codemirror_mode": {
    "name": "ipython",
    "version": 3
   },
   "file_extension": ".py",
   "mimetype": "text/x-python",
   "name": "python",
   "nbconvert_exporter": "python",
   "pygments_lexer": "ipython3",
   "version": "3.11.9"
  }
 },
 "nbformat": 4,
 "nbformat_minor": 5
}
