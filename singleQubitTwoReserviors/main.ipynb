{
 "cells": [
  {
   "cell_type": "code",
   "execution_count": 1,
   "id": "cfd70f4e",
   "metadata": {},
   "outputs": [],
   "source": [
    "from imports import *\n",
    "from defs import numberop, Sigma_minus, Sigma_plus, Sigma_x, Sigma_y, Sigma_z\n",
    "from exactDiagMethods import Liouvillian, perform_exact_diag, build_exact_diag_hamiltonian\n",
    "from globalMethods import verify_density_matrix, build_initial_states, output_results\n",
    "from vqteMethods import hamiltonian_generation_simple, hamiltonian_generation, perform_vqte"
   ]
  },
  {
   "cell_type": "code",
   "execution_count": null,
   "id": "d6622a9e",
   "metadata": {},
   "outputs": [],
   "source": [
    "\n",
    "def main():\n",
    "    # Initialize the simulation parameters\n",
    "    N=1\n",
    "    gamma=0.05\n",
    "    eps=1\n",
    "    mu_L=2\n",
    "    mu_R=0.1\n",
    "    T_L = 4\n",
    "    T_R= 5\n",
    "    beta_L=1/T_L\n",
    "    beta_R=1/T_R\n",
    "    F_L = 1/(np.exp(beta_L*(eps-mu_L))+1)\n",
    "    F_R = 1/(np.exp(beta_R*(eps-mu_R))+1)\n",
    "\n",
    "    time = 100.0\n",
    "    dt = 0.01\n",
    "    nt = int(time/dt)\n",
    "    \n",
    "    ham_real, ham_imag = hamiltonian_generation(eps, gamma, F_R,F_L,mu_L,mu_R)\n",
    "    \n",
    "    print(\"The real hamiltonian is \", ham_real.to_matrix())\n",
    "    print(\"The imaginary hamiltonian is\" , ham_imag.to_matrix())\n",
    "   \n",
    "    vqte_init_state, exact_diag_init_state, ansatz, init_param_values = build_initial_states(ham_real)\n",
    "   \n",
    "    print(\"The vqte init state is\" ,vqte_init_state)\n",
    "    print(\"The exact diag initial state is \",exact_diag_init_state)\n",
    "    exact_diag_ham = build_exact_diag_hamiltonian(eps)\n",
    "\n",
    " \n",
    "\n",
    "    # Perform exact diagonalization\n",
    "    exact_diag_results, time_points, steadyState = perform_exact_diag(gamma, F_L, F_R, dt, nt, exact_diag_init_state,exact_diag_ham,N)\n",
    "\n",
    "    vqte_results, trace_list = perform_vqte(ham_real, ham_imag, vqte_init_state, dt, nt, ansatz, init_param_values)\n",
    "    output_results(vqte_results, exact_diag_results, time, nt, time_points, trace_list, steadyState, T_L, T_R, mu_L,mu_R,eps)"
   ]
  },
  {
   "cell_type": "code",
   "execution_count": 3,
   "id": "8a6ff9c2",
   "metadata": {},
   "outputs": [
    {
     "name": "stdout",
     "output_type": "stream",
     "text": [
      "The real hamiltonian is  [[ 0.+0.j          0.+0.j          0.+0.j          0.-0.00086488j]\n",
      " [ 0.+0.j          1.+0.j          0.+0.j          0.+0.j        ]\n",
      " [ 0.+0.j          0.+0.j         -1.+0.j          0.+0.j        ]\n",
      " [ 0.+0.00086488j  0.+0.j          0.+0.j          0.+0.j        ]]\n",
      "The imaginary hamiltonian is [[ 0.05086488+0.j  0.        +0.j  0.        +0.j -0.05      +0.j]\n",
      " [ 0.        +0.j  0.05      +0.j  0.        +0.j  0.        +0.j]\n",
      " [ 0.        +0.j  0.        +0.j  0.05      +0.j  0.        +0.j]\n",
      " [-0.05      +0.j  0.        +0.j  0.        +0.j  0.04913512+0.j]]\n",
      "Is Hermitian: True\n",
      "Trace: (0.9999999999999998+1.2246467991473533e-15j) (should be 1)\n",
      "Eigenvalues: [-2.4492936e-16  1.0000000e+00]\n",
      "All eigenvalues ≥ 0: False\n",
      "Purity (Tr(ρ²)): (1+2.4492935982947065e-15j) (should be 1 for pure state)\n",
      "The vqte init state is Statevector([ 1.0000000e+00+1.22464680e-15j,\n",
      "             -3.6739404e-16-8.99855870e-32j,\n",
      "             -6.1232340e-16-2.99951957e-31j,\n",
      "             -2.4492936e-16-2.99951957e-32j],\n",
      "            dims=(2, 2))\n",
      "The exact diag initial state is  [[ 1.0000000e+00+1.22464680e-15j -6.1232340e-16-2.99951957e-31j]\n",
      " [-3.6739404e-16-8.99855870e-32j -2.4492936e-16-2.99951957e-32j]]\n",
      "Initial expectation value of number operator: (-2.449293598294706e-16+2.6995676087913437e-31j)\n"
     ]
    },
    {
     "ename": "ValueError",
     "evalue": "not enough values to unpack (expected 3, got 2)",
     "output_type": "error",
     "traceback": [
      "\u001b[31m---------------------------------------------------------------------------\u001b[39m",
      "\u001b[31mValueError\u001b[39m                                Traceback (most recent call last)",
      "\u001b[36mCell\u001b[39m\u001b[36m \u001b[39m\u001b[32mIn[3]\u001b[39m\u001b[32m, line 1\u001b[39m\n\u001b[32m----> \u001b[39m\u001b[32m1\u001b[39m \u001b[43mmain\u001b[49m\u001b[43m(\u001b[49m\u001b[43m)\u001b[49m\n",
      "\u001b[36mCell\u001b[39m\u001b[36m \u001b[39m\u001b[32mIn[2]\u001b[39m\u001b[32m, line 33\u001b[39m, in \u001b[36mmain\u001b[39m\u001b[34m()\u001b[39m\n\u001b[32m     28\u001b[39m exact_diag_ham = build_exact_diag_hamiltonian(eps)\n\u001b[32m     32\u001b[39m \u001b[38;5;66;03m# Perform exact diagonalization\u001b[39;00m\n\u001b[32m---> \u001b[39m\u001b[32m33\u001b[39m exact_diag_results, time_points, steadyState = perform_exact_diag(gamma, F_L, F_R, dt, nt, exact_diag_init_state,exact_diag_ham,N)\n\u001b[32m     35\u001b[39m vqte_results, trace_list = perform_vqte(ham_real, ham_imag, vqte_init_state, dt, nt, ansatz, init_param_values)\n\u001b[32m     36\u001b[39m output_results(vqte_results, exact_diag_results, time, nt, time_points, trace_list, steadyState, T_L, T_R, mu_L,mu_R,eps)\n",
      "\u001b[31mValueError\u001b[39m: not enough values to unpack (expected 3, got 2)"
     ]
    }
   ],
   "source": [
    "main()"
   ]
  }
 ],
 "metadata": {
  "kernelspec": {
   "display_name": "Python 3",
   "language": "python",
   "name": "python3"
  },
  "language_info": {
   "codemirror_mode": {
    "name": "ipython",
    "version": 3
   },
   "file_extension": ".py",
   "mimetype": "text/x-python",
   "name": "python",
   "nbconvert_exporter": "python",
   "pygments_lexer": "ipython3",
   "version": "3.11.9"
  }
 },
 "nbformat": 4,
 "nbformat_minor": 5
}
