{
 "cells": [
  {
   "cell_type": "code",
   "execution_count": 1,
   "id": "cfd70f4e",
   "metadata": {},
   "outputs": [],
   "source": [
    "from imports import *\n",
    "from exactDiagMethods import perform_exact_diag, build_exact_diag_hamiltonian\n",
    "from globalMethods import build_initial_states, output_results\n",
    "from vqteMethods import  hamiltonian_generation, perform_vqte\n"
   ]
  },
  {
   "cell_type": "code",
   "execution_count": null,
   "id": "d6622a9e",
   "metadata": {},
   "outputs": [],
   "source": [
    "\n",
    "def main():\n",
    "\n",
    "    # Initialize the simulation parameters\n",
    "    gamma_L = 1\n",
    "    gamma_R = 0\n",
    "\n",
    "    eps = 1.0\n",
    "\n",
    "    mu_L= 1.0\n",
    "    mu_R= 1.0\n",
    "\n",
    "    # Temperature of Reserviors\n",
    "    T_L = 1.0\n",
    "    T_R= 1.0\n",
    "\n",
    "    time = 1\n",
    "    dt = 0.01\n",
    "    nt = int(time/dt)\n",
    "\n",
    "    beta_L=1/T_L\n",
    "    beta_R=1/T_R\n",
    "    F_L = 1/(np.exp(beta_L*(eps-mu_L))+1)\n",
    "    F_R = 1/(np.exp(beta_R*(eps-mu_R))+1)\n",
    "\n",
    "\n",
    "    # Generate Hamiltonians\n",
    "    exact_diag_ham = build_exact_diag_hamiltonian(eps)\n",
    "    ham_real, ham_imag = hamiltonian_generation(eps, gamma_L, gamma_R, F_R,F_L)\n",
    "    print(\"Exact Diag Ham: \", exact_diag_ham)\n",
    "    print(\"Ham real: \", ham_real)\n",
    "    print(\"Ham imag: \", ham_imag)\n",
    "\n",
    "\n",
    "    # Generate initial states\n",
    "    vqte_init_state, exact_diag_init_state, ansatz, init_param_values = build_initial_states(ham_real)\n",
    "    print(\"Initil State : \" , vqte_init_state)\n",
    "    print(\"Exact Initial : \", exact_diag_init_state)\n",
    "\n",
    "    # Perform exact diagonalization\n",
    "    #exact_diag_results, time_points = perform_exact_diag(gamma_L, F_L, gamma_R, F_R, dt, nt, exact_diag_init_state, exact_diag_ham)\n",
    "   \n",
    "    # Perform vqte simulation\n",
    "    vqte_results = perform_vqte(ham_real, ham_imag, vqte_init_state, dt, nt, ansatz, init_param_values)\n",
    "\n",
    "    #Output results\n",
    "    output_results(vqte_results, exact_diag_results, time, nt, time_points)\n",
    "    print(vqte_results[-1])\n"
   ]
  },
  {
   "cell_type": "code",
   "execution_count": 3,
   "id": "8a6ff9c2",
   "metadata": {},
   "outputs": [
    {
     "name": "stdout",
     "output_type": "stream",
     "text": [
      "Exact Diag Ham:  [[0.+0.j 0.+0.j]\n",
      " [0.+0.j 1.+0.j]]\n",
      "Ham real:  SparsePauliOp(['IIZ', 'IZI', 'ZII', 'XYI', 'YXI', 'XIY', 'YIX'],\n",
      "              coeffs=[-1.   +0.j,  0.5  +0.j,  0.5  +0.j, -0.125+0.j, -0.125+0.j, -0.125+0.j,\n",
      " -0.125+0.j])\n",
      "Ham imag:  SparsePauliOp(['III', 'XXI', 'YYI', 'XIX', 'YIY', 'IIZ', 'IZI', 'ZII'],\n",
      "              coeffs=[ 1.   -0.j, -0.25 +0.j,  0.25 -0.j, -0.25 +0.j,  0.25 -0.j, -0.25 +0.j,\n",
      " -0.125+0.j, -0.125+0.j])\n"
     ]
    },
    {
     "ename": "ValueError",
     "evalue": "cannot reshape array of size 8 into shape (2,2)",
     "output_type": "error",
     "traceback": [
      "\u001b[31m---------------------------------------------------------------------------\u001b[39m",
      "\u001b[31mValueError\u001b[39m                                Traceback (most recent call last)",
      "\u001b[36mCell\u001b[39m\u001b[36m \u001b[39m\u001b[32mIn[3]\u001b[39m\u001b[32m, line 1\u001b[39m\n\u001b[32m----> \u001b[39m\u001b[32m1\u001b[39m \u001b[43mmain\u001b[49m\u001b[43m(\u001b[49m\u001b[43m)\u001b[49m\n",
      "\u001b[36mCell\u001b[39m\u001b[36m \u001b[39m\u001b[32mIn[2]\u001b[39m\u001b[32m, line 35\u001b[39m, in \u001b[36mmain\u001b[39m\u001b[34m()\u001b[39m\n\u001b[32m     31\u001b[39m \u001b[38;5;28mprint\u001b[39m(\u001b[33m\"\u001b[39m\u001b[33mHam imag: \u001b[39m\u001b[33m\"\u001b[39m, ham_imag)\n\u001b[32m     34\u001b[39m \u001b[38;5;66;03m# Generate initial states\u001b[39;00m\n\u001b[32m---> \u001b[39m\u001b[32m35\u001b[39m vqte_init_state, exact_diag_init_state, ansatz, init_param_values = \u001b[43mbuild_initial_states\u001b[49m\u001b[43m(\u001b[49m\u001b[43mham_real\u001b[49m\u001b[43m)\u001b[49m\n\u001b[32m     36\u001b[39m \u001b[38;5;28mprint\u001b[39m(\u001b[33m\"\u001b[39m\u001b[33mInitil State : \u001b[39m\u001b[33m\"\u001b[39m , vqte_init_state)\n\u001b[32m     37\u001b[39m \u001b[38;5;28mprint\u001b[39m(\u001b[33m\"\u001b[39m\u001b[33mExact Initial : \u001b[39m\u001b[33m\"\u001b[39m, exact_diag_init_state)\n",
      "\u001b[36mFile \u001b[39m\u001b[32mc:\\Users\\tessa\\OneDrive\\Desktop\\CS0449\\open-quantum-systems-simulation\\singleQubitTwoReserviors\\globalMethods.py:74\u001b[39m, in \u001b[36mbuild_initial_states\u001b[39m\u001b[34m(ham_real)\u001b[39m\n\u001b[32m     71\u001b[39m psi_vector = vqte_init_state.data\n\u001b[32m     73\u001b[39m \u001b[38;5;66;03m# Reshape to a matrix\u001b[39;00m\n\u001b[32m---> \u001b[39m\u001b[32m74\u001b[39m rho_matrix = \u001b[43mpsi_vector\u001b[49m\u001b[43m.\u001b[49m\u001b[43mreshape\u001b[49m\u001b[43m(\u001b[49m\u001b[32;43m2\u001b[39;49m\u001b[43m \u001b[49m\u001b[43m,\u001b[49m\u001b[32;43m2\u001b[39;49m\u001b[43m,\u001b[49m\u001b[43m \u001b[49m\u001b[43morder\u001b[49m\u001b[43m=\u001b[49m\u001b[33;43m'\u001b[39;49m\u001b[33;43mF\u001b[39;49m\u001b[33;43m'\u001b[39;49m\u001b[43m)\u001b[49m\n\u001b[32m     75\u001b[39m exact_diag_initial_state = np.matrix(rho_matrix)\n\u001b[32m     77\u001b[39m \u001b[38;5;28;01mreturn\u001b[39;00m vqte_init_state, exact_diag_initial_state, ansatz, init_param_values\n",
      "\u001b[31mValueError\u001b[39m: cannot reshape array of size 8 into shape (2,2)"
     ]
    }
   ],
   "source": [
    "main()"
   ]
  }
 ],
 "metadata": {
  "kernelspec": {
   "display_name": "Python 3",
   "language": "python",
   "name": "python3"
  },
  "language_info": {
   "codemirror_mode": {
    "name": "ipython",
    "version": 3
   },
   "file_extension": ".py",
   "mimetype": "text/x-python",
   "name": "python",
   "nbconvert_exporter": "python",
   "pygments_lexer": "ipython3",
   "version": "3.11.9"
  }
 },
 "nbformat": 4,
 "nbformat_minor": 5
}
