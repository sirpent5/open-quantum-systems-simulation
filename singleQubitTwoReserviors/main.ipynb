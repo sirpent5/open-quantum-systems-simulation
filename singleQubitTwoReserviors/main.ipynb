{
 "cells": [
  {
   "cell_type": "code",
   "execution_count": 4,
   "id": "cfd70f4e",
   "metadata": {},
   "outputs": [],
   "source": [
    "from imports import *\n",
    "from defs import numberop, Sigma_minus, Sigma_plus, Sigma_x, Sigma_y, Sigma_z\n",
    "from exactDiagMethods import Liouvillian, perform_exact_diag, build_exact_diag_hamiltonian, Enlarge_Matrix_site_j,output_exact_diag_results, Correlation_Matrix_i_Matrix_j\n",
    "from globalMethods import verify_density_matrix, build_initial_states\n",
    "from vqteMethods import hamiltonian_generation_simple, hamiltonian_generation, perform_vqte"
   ]
  },
  {
   "cell_type": "code",
   "execution_count": 5,
   "id": "d6622a9e",
   "metadata": {},
   "outputs": [],
   "source": [
    "\n",
    "def main():\n",
    "    # Initialize the simulation parameters\n",
    "    N=1\n",
    "    gamma=0.05\n",
    "    eps=1\n",
    "    mu_L=2\n",
    "    print(\"yeah\")\n",
    "    mu_R=0.1\n",
    "    T_L = 2\n",
    "    T_R= 10\n",
    "    beta_L=1/T_L\n",
    "    beta_R=1/T_R\n",
    "    F_L = 1/(np.exp(beta_L*(eps-mu_L))+1)\n",
    "    F_R = 1/(np.exp(beta_R*(eps-mu_R))+1)\n",
    "\n",
    "    time = 100.0\n",
    "    dt = 0.1\n",
    "    nt = int(time/dt)\n",
    "\n",
    "    ham_real, ham_imag = hamiltonian_generation(eps, gamma, mu_L, T_L)\n",
    "    vqte_init_state, exact_diag_init_state, ansatz, init_param_values = build_initial_states(ham_real)\n",
    "    exact_diag_ham = build_exact_diag_hamiltonian(eps)\n",
    "\n",
    "    print(vqte_init_state)\n",
    "    print(exact_diag_init_state)\n",
    "\n",
    "    # Perform exact diagonalization\n",
    "    exact_diag_results, time_points, steadyState = perform_exact_diag(gamma, F_L, F_R, dt, nt, exact_diag_init_state,exact_diag_ham,N)\n",
    "\n",
    "    # Perform VQTE simulation\n",
    "    #vqte_results, trace_list = perform_vqte(ham_real, ham_imag, vqte_init_state, mu_L,mu_R, T_L, T_R, dt, nt, ansatz, init_param_values)\n",
    "    #Example VQE\n",
    "    # Output results\n",
    "    output_exact_diag_results(exact_diag_results, time, nt, eps, mu_L,mu_R,T_L, T_R, time_points, steadyState)\n",
    "    #output_results(vqte_results, exact_diag_results, time, nt, eps, mu_L,mu_R,T_L, T_R, time_points, trace_list)"
   ]
  },
  {
   "cell_type": "code",
   "execution_count": 6,
   "id": "8a6ff9c2",
   "metadata": {},
   "outputs": [
    {
     "name": "stdout",
     "output_type": "stream",
     "text": [
      "yeah\n",
      "Statevector([ 1.0000000e+00+4.89858720e-16j,\n",
      "             -1.2246468e-16-2.99951957e-32j,\n",
      "             -2.4492936e-16-2.99951957e-32j,\n",
      "             -1.2246468e-16+2.99951957e-32j],\n",
      "            dims=(2, 2))\n",
      "[[ 1.0000000e+00+4.89858720e-16j -2.4492936e-16-2.99951957e-32j]\n",
      " [-1.2246468e-16-2.99951957e-32j -1.2246468e-16+2.99951957e-32j]]\n",
      "Reference number operator expectation value: (0.4500127467949729+0j)\n",
      "Is Hermitian: True\n",
      "Trace: (0.9999999999999999+4.898587196589413e-16j) (should be 1)\n",
      "Eigenvalues: [-1.2246468e-16  1.0000000e+00]\n",
      "All eigenvalues ≥ 0: False\n",
      "Purity (Tr(ρ²)): (1+9.797174393178826e-16j) (should be 1 for pure state)\n",
      "Initial expectation value of number operator: (-1.224646799147353e-16+8.998558695971146e-32j)\n"
     ]
    },
    {
     "ename": "ValueError",
     "evalue": "not enough values to unpack (expected 3, got 2)",
     "output_type": "error",
     "traceback": [
      "\u001b[31m---------------------------------------------------------------------------\u001b[39m",
      "\u001b[31mValueError\u001b[39m                                Traceback (most recent call last)",
      "\u001b[36mCell\u001b[39m\u001b[36m \u001b[39m\u001b[32mIn[6]\u001b[39m\u001b[32m, line 1\u001b[39m\n\u001b[32m----> \u001b[39m\u001b[32m1\u001b[39m \u001b[43mmain\u001b[49m\u001b[43m(\u001b[49m\u001b[43m)\u001b[49m\n",
      "\u001b[36mCell\u001b[39m\u001b[36m \u001b[39m\u001b[32mIn[5]\u001b[39m\u001b[32m, line 28\u001b[39m, in \u001b[36mmain\u001b[39m\u001b[34m()\u001b[39m\n\u001b[32m     25\u001b[39m \u001b[38;5;28mprint\u001b[39m(exact_diag_init_state)\n\u001b[32m     27\u001b[39m \u001b[38;5;66;03m# Perform exact diagonalization\u001b[39;00m\n\u001b[32m---> \u001b[39m\u001b[32m28\u001b[39m exact_diag_results, time_points, steadyState = perform_exact_diag(gamma, F_L, F_R, dt, nt, exact_diag_init_state,exact_diag_ham,N)\n\u001b[32m     30\u001b[39m \u001b[38;5;66;03m# Perform VQTE simulation\u001b[39;00m\n\u001b[32m     31\u001b[39m \u001b[38;5;66;03m#vqte_results, trace_list = perform_vqte(ham_real, ham_imag, vqte_init_state, mu_L,mu_R, T_L, T_R, dt, nt, ansatz, init_param_values)\u001b[39;00m\n\u001b[32m     32\u001b[39m \u001b[38;5;66;03m#Example VQE\u001b[39;00m\n\u001b[32m     33\u001b[39m \u001b[38;5;66;03m# Output results\u001b[39;00m\n\u001b[32m     34\u001b[39m output_exact_diag_results(exact_diag_results, time, nt, eps, mu_L,mu_R,T_L, T_R, time_points, steadyState)\n",
      "\u001b[31mValueError\u001b[39m: not enough values to unpack (expected 3, got 2)"
     ]
    }
   ],
   "source": [
    "main()"
   ]
  }
 ],
 "metadata": {
  "kernelspec": {
   "display_name": "Python 3",
   "language": "python",
   "name": "python3"
  },
  "language_info": {
   "codemirror_mode": {
    "name": "ipython",
    "version": 3
   },
   "file_extension": ".py",
   "mimetype": "text/x-python",
   "name": "python",
   "nbconvert_exporter": "python",
   "pygments_lexer": "ipython3",
   "version": "3.11.9"
  }
 },
 "nbformat": 4,
 "nbformat_minor": 5
}
