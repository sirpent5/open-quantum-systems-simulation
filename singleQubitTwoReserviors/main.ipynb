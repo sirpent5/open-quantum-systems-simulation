{
 "cells": [
  {
   "cell_type": "code",
   "execution_count": 1,
   "id": "cfd70f4e",
   "metadata": {},
   "outputs": [],
   "source": [
    "from imports import *\n",
    "from exactDiagMethods import perform_exact_diag, build_exact_diag_hamiltonian\n",
    "from globalMethods import build_initial_states, output_results\n",
    "from vqteMethods import  hamiltonian_generation, perform_vqte\n",
    "\n",
    "## Fix VQTE Ham  \n",
    "\n",
    "## Select 5 cases of diff temps / mus\n",
    "## Plot each case\n",
    "## Check out savefig()\n",
    "## Produce a document to show equality between classical / hybrid"
   ]
  },
  {
   "cell_type": "code",
   "execution_count": 2,
   "id": "d6622a9e",
   "metadata": {},
   "outputs": [],
   "source": [
    "\n",
    "def main():\n",
    "\n",
    "    # Initialize the simulation parameters\n",
    "    N = 1\n",
    "    gamma_L = 0.1\n",
    "    gamma_R = 0.0\n",
    "\n",
    "    eps = 2\n",
    "    mu_L= 3\n",
    "    mu_R= 0.0\n",
    "    T_L = 100\n",
    "    T_R= 1\n",
    "    beta_L=1/T_L\n",
    "    beta_R=1/T_R\n",
    "    F_L = 1/(np.exp(beta_L*(eps-mu_L))+1)\n",
    "    F_R = 1/(np.exp(beta_R*(eps-mu_R))+1)\n",
    "\n",
    "    time = 100.0\n",
    "    dt = 0.1\n",
    "    nt = int(time/dt)\n",
    "    \n",
    "    ham_real, ham_imag = hamiltonian_generation(eps, gamma_L, gamma_R, F_R,F_L)\n",
    "    \n",
    "    print(\"The real hamiltonian is \", ham_real.to_matrix())\n",
    "    print(\"The imaginary hamiltonian is\" , ham_imag.to_matrix())\n",
    "   \n",
    "    vqte_init_state, exact_diag_init_state, ansatz, init_param_values = build_initial_states(ham_real)\n",
    "   \n",
    "    print(\"The vqte init state is\" ,vqte_init_state)\n",
    "    print(\"The exact diag initial state is \",exact_diag_init_state)\n",
    "    exact_diag_ham = build_exact_diag_hamiltonian(eps)\n",
    "\n",
    "    print(\"The exact ham is\", exact_diag_ham)\n",
    "\n",
    " \n",
    "\n",
    "    # Perform exact diagonalization\n",
    "    exact_diag_results, time_points, steadyState = perform_exact_diag(gamma_L, gamma_R, F_L, F_R, dt, nt, exact_diag_init_state,exact_diag_ham,N)\n",
    "\n",
    "    vqte_results, trace_list = perform_vqte(ham_real, ham_imag, vqte_init_state, dt, nt, ansatz, init_param_values)\n",
    "    output_results(vqte_results, exact_diag_results, time, nt, time_points, trace_list, steadyState, T_L, T_R, mu_L,mu_R,eps)\n",
    "\n",
    "\n",
    "    print(\"Final VQTE: \",vqte_results[-1])\n",
    "    print(\"Final exact: \",exact_diag_results[-1])"
   ]
  },
  {
   "cell_type": "code",
   "execution_count": 3,
   "id": "8a6ff9c2",
   "metadata": {},
   "outputs": [
    {
     "name": "stdout",
     "output_type": "stream",
     "text": [
      "The real hamiltonian is  [[ 0.+0.j       0.+0.j       0.+0.j       0.-0.00025j]\n",
      " [ 0.+0.j       2.+0.j       0.+0.j       0.+0.j     ]\n",
      " [ 0.+0.j       0.+0.j      -2.+0.j       0.+0.j     ]\n",
      " [ 0.+0.00025j  0.+0.j       0.+0.j       0.+0.j     ]]\n",
      "The imaginary hamiltonian is [[ 0.05025+0.j  0.     +0.j  0.     +0.j -0.05   +0.j]\n",
      " [ 0.     +0.j  0.05   +0.j  0.     +0.j  0.     +0.j]\n",
      " [ 0.     +0.j  0.     +0.j  0.05   +0.j  0.     +0.j]\n",
      " [-0.05   +0.j  0.     +0.j  0.     +0.j  0.04975+0.j]]\n",
      "Is Hermitian: True\n",
      "Trace: (0.9999999999999999+4.898587196589413e-16j) (should be 1)\n",
      "Eigenvalues: [-1.2246468e-16  1.0000000e+00]\n",
      "All eigenvalues ≥ 0: False\n",
      "Purity (Tr(ρ²)): (1+9.797174393178826e-16j) (should be 1 for pure state)\n",
      "The vqte init state is Statevector([ 1.0000000e+00+4.89858720e-16j,\n",
      "             -1.2246468e-16-2.99951957e-32j,\n",
      "             -2.4492936e-16-2.99951957e-32j,\n",
      "             -1.2246468e-16+2.99951957e-32j],\n",
      "            dims=(2, 2))\n",
      "The exact diag initial state is  [[ 1.0000000e+00+4.89858720e-16j -2.4492936e-16-2.99951957e-32j]\n",
      " [-1.2246468e-16-2.99951957e-32j -1.2246468e-16+2.99951957e-32j]]\n",
      "The exact ham is [[0.+0.j 0.+0.j]\n",
      " [0.+0.j 2.+0.j]]\n",
      "Reference number operator expectation value: (0.4975000208331251+0j)\n",
      "Initial expectation value of number operator: (-1.224646799147353e-16+8.998558695971146e-32j)\n"
     ]
    },
    {
     "ename": "NameError",
     "evalue": "name 'd' is not defined",
     "output_type": "error",
     "traceback": [
      "\u001b[31m---------------------------------------------------------------------------\u001b[39m",
      "\u001b[31mNameError\u001b[39m                                 Traceback (most recent call last)",
      "\u001b[36mCell\u001b[39m\u001b[36m \u001b[39m\u001b[32mIn[3]\u001b[39m\u001b[32m, line 1\u001b[39m\n\u001b[32m----> \u001b[39m\u001b[32m1\u001b[39m \u001b[43mmain\u001b[49m\u001b[43m(\u001b[49m\u001b[43m)\u001b[49m\n",
      "\u001b[36mCell\u001b[39m\u001b[36m \u001b[39m\u001b[32mIn[2]\u001b[39m\u001b[32m, line 38\u001b[39m, in \u001b[36mmain\u001b[39m\u001b[34m()\u001b[39m\n\u001b[32m     33\u001b[39m \u001b[38;5;28mprint\u001b[39m(\u001b[33m\"\u001b[39m\u001b[33mThe exact ham is\u001b[39m\u001b[33m\"\u001b[39m, exact_diag_ham)\n\u001b[32m     37\u001b[39m \u001b[38;5;66;03m# Perform exact diagonalization\u001b[39;00m\n\u001b[32m---> \u001b[39m\u001b[32m38\u001b[39m exact_diag_results, time_points, steadyState = \u001b[43mperform_exact_diag\u001b[49m\u001b[43m(\u001b[49m\u001b[43mgamma_L\u001b[49m\u001b[43m,\u001b[49m\u001b[43m \u001b[49m\u001b[43mgamma_R\u001b[49m\u001b[43m,\u001b[49m\u001b[43m \u001b[49m\u001b[43mF_L\u001b[49m\u001b[43m,\u001b[49m\u001b[43m \u001b[49m\u001b[43mF_R\u001b[49m\u001b[43m,\u001b[49m\u001b[43m \u001b[49m\u001b[43mdt\u001b[49m\u001b[43m,\u001b[49m\u001b[43m \u001b[49m\u001b[43mnt\u001b[49m\u001b[43m,\u001b[49m\u001b[43m \u001b[49m\u001b[43mexact_diag_init_state\u001b[49m\u001b[43m,\u001b[49m\u001b[43mexact_diag_ham\u001b[49m\u001b[43m,\u001b[49m\u001b[43mN\u001b[49m\u001b[43m)\u001b[49m\n\u001b[32m     40\u001b[39m vqte_results, trace_list = perform_vqte(ham_real, ham_imag, vqte_init_state, dt, nt, ansatz, init_param_values)\n\u001b[32m     41\u001b[39m output_results(vqte_results, exact_diag_results, time, nt, time_points, trace_list, steadyState, T_L, T_R, mu_L,mu_R,eps)\n",
      "\u001b[36mFile \u001b[39m\u001b[32mc:\\Users\\tessa\\OneDrive\\Desktop\\CS0449\\open-quantum-systems-simulation\\singleQubitTwoReserviors\\exactDiagMethods.py:104\u001b[39m, in \u001b[36mperform_exact_diag\u001b[39m\u001b[34m(gamma_L, gamma_R, F_L, F_R, dt, nt, initial_state, H, N)\u001b[39m\n\u001b[32m    101\u001b[39m \u001b[38;5;28;01mfor\u001b[39;00m step \u001b[38;5;129;01min\u001b[39;00m \u001b[38;5;28mrange\u001b[39m(\u001b[32m1\u001b[39m,nt+\u001b[32m1\u001b[39m):\n\u001b[32m    103\u001b[39m     rho_t = U @ rho_t\n\u001b[32m--> \u001b[39m\u001b[32m104\u001b[39m     rho_matrix = rho_t.reshape(\u001b[43md\u001b[49m ,d)\n\u001b[32m    105\u001b[39m     rho_matrix = rho_matrix / np.trace(rho_matrix)\n\u001b[32m    106\u001b[39m     expectation_value_history.append(np.trace(numberop @ rho_matrix))\n",
      "\u001b[31mNameError\u001b[39m: name 'd' is not defined"
     ]
    }
   ],
   "source": [
    "main()"
   ]
  }
 ],
 "metadata": {
  "kernelspec": {
   "display_name": "Python 3",
   "language": "python",
   "name": "python3"
  },
  "language_info": {
   "codemirror_mode": {
    "name": "ipython",
    "version": 3
   },
   "file_extension": ".py",
   "mimetype": "text/x-python",
   "name": "python",
   "nbconvert_exporter": "python",
   "pygments_lexer": "ipython3",
   "version": "3.11.9"
  }
 },
 "nbformat": 4,
 "nbformat_minor": 5
}
