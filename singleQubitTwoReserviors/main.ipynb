{
 "cells": [
  {
   "cell_type": "code",
   "execution_count": 1,
   "id": "cfd70f4e",
   "metadata": {},
   "outputs": [],
   "source": [
    "from imports import *\n",
    "from defs import numberop, Sigma_minus, Sigma_plus, Sigma_x, Sigma_y, Sigma_z\n",
    "from exactDiagMethods import Liouvillian, perform_exact_diag, build_exact_diag_hamiltonian, Enlarge_Matrix_site_j,output_exact_diag_results, Correlation_Matrix_i_Matrix_j\n",
    "from globalMethods import verify_density_matrix, build_initial_states, output_results\n",
    "from vqteMethods import hamiltonian_generation_simple, hamiltonian_generation, perform_vqte, output_vqte_results"
   ]
  },
  {
   "cell_type": "code",
   "execution_count": 2,
   "id": "d6622a9e",
   "metadata": {},
   "outputs": [],
   "source": [
    "\n",
    "def main():\n",
    "    # Initialize the simulation parameters\n",
    "    N=1\n",
    "    gamma=0.05\n",
    "    eps=1\n",
    "    mu_L=2\n",
    "    mu_R=0.1\n",
    "    T_L = 2\n",
    "    T_R= 10\n",
    "    beta_L=1/T_L\n",
    "    beta_R=1/T_R\n",
    "    F_L = 1/(np.exp(beta_L*(eps-mu_L))+1)\n",
    "    F_R = 1/(np.exp(beta_R*(eps-mu_R))+1)\n",
    "\n",
    "    time = 10.0\n",
    "    dt = 0.1\n",
    "    nt = int(time/dt)\n",
    "\n",
    "    ham_real, ham_imag = hamiltonian_generation(eps, gamma, F_R,F_L,mu_L,mu_R)\n",
    "\n",
    "    print(\"The real hamiltonian is \", ham_real.to_matrix())\n",
    "    print(\"The imaginary hamiltonian is\" , ham_imag.to_matrix())\n",
    "    #vqte_init_state, ansatz, init_param_values = build_initial_states(ham_real)\n",
    "    print(\"The initial state is\")\n",
    "    vqte_init_state, exact_diag_init_state, ansatz, init_param_values = build_initial_states(ham_real)\n",
    "   # exact_diag_ham = build_exact_diag_hamiltonian(eps)\n",
    "\n",
    "    print(vqte_init_state)\n",
    "    #print(exact_diag_init_state)\n",
    "\n",
    "    # Perform exact diagonalization\n",
    "   # exact_diag_results, time_points, steadyState = perform_exact_diag(gamma, F_L, F_R, dt, nt, exact_diag_init_state,exact_diag_ham,N)\n",
    "\n",
    "    # Perform VQTE simulation\n",
    "    #  vqte_results, trace_list = perform_vqte(ham_real, ham_imag, vqte_init_state, dt, nt, ansatz, init_param_values)\n",
    "    vqte_results = perform_vqte(ham_real, ham_imag, vqte_init_state, dt, nt, ansatz, init_param_values)\n",
    "    output_vqte_results(vqte_results, time, nt, eps, mu_L,mu_R,T_L, T_R)\n",
    "   \n",
    "    #Example VQE\n",
    "    # Output results\n",
    "    #output_exact_diag_results(exact_diag_results, time, nt, eps, mu_L,mu_R,T_L, T_R, time_points, steadyState)\n",
    "    #output_results(vqte_results, exact_diag_results, time, nt, time_points, trace_list, steadyState)"
   ]
  },
  {
   "cell_type": "code",
   "execution_count": 3,
   "id": "8a6ff9c2",
   "metadata": {},
   "outputs": [
    {
     "name": "stdout",
     "output_type": "stream",
     "text": [
      "The real hamiltonian is  [[ 0.+0.j          0.+0.j          0.+0.j          0.+0.j\n",
      "   0.+0.j          0.+0.01193788j  0.+0.01556148j  0.+0.j        ]\n",
      " [ 0.+0.j          2.+0.j          0.+0.j          0.+0.j\n",
      "   0.+0.j          0.+0.j          0.+0.j          0.+0.01556148j]\n",
      " [ 0.+0.j          0.+0.j         -1.+0.j          0.+0.j\n",
      "   0.+0.j          0.+0.j          0.+0.j          0.+0.01193788j]\n",
      " [ 0.+0.j          0.+0.j          0.+0.j          1.+0.j\n",
      "   0.+0.j          0.+0.j          0.+0.j          0.+0.j        ]\n",
      " [ 0.+0.j          0.+0.j          0.+0.j          0.+0.j\n",
      "  -1.+0.j          0.+0.j          0.+0.j          0.+0.j        ]\n",
      " [ 0.-0.01193788j  0.+0.j          0.+0.j          0.+0.j\n",
      "   0.+0.j          1.+0.j          0.+0.j          0.+0.j        ]\n",
      " [ 0.-0.01556148j  0.+0.j          0.+0.j          0.+0.j\n",
      "   0.+0.j          0.+0.j         -2.+0.j          0.+0.j        ]\n",
      " [ 0.+0.j          0.-0.01556148j  0.-0.01193788j  0.+0.j\n",
      "   0.+0.j          0.+0.j          0.+0.j          0.+0.j        ]]\n",
      "The imaginary hamiltonian is [[ 0.02250064+0.j  0.        +0.j  0.        +0.j  0.        +0.j\n",
      "   0.        +0.j -0.025     +0.j -0.025     +0.j  0.        +0.j]\n",
      " [ 0.        +0.j  0.05      +0.j  0.        +0.j  0.        +0.j\n",
      "   0.        +0.j  0.        +0.j  0.        +0.j -0.025     +0.j]\n",
      " [ 0.        +0.j  0.        +0.j  0.03806212+0.j  0.        +0.j\n",
      "   0.        +0.j  0.        +0.j  0.        +0.j -0.025     +0.j]\n",
      " [ 0.        +0.j  0.        +0.j  0.        +0.j  0.06556148+0.j\n",
      "   0.        +0.j  0.        +0.j  0.        +0.j  0.        +0.j]\n",
      " [ 0.        +0.j  0.        +0.j  0.        +0.j  0.        +0.j\n",
      "   0.03443852+0.j  0.        +0.j  0.        +0.j  0.        +0.j]\n",
      " [-0.025     +0.j  0.        +0.j  0.        +0.j  0.        +0.j\n",
      "   0.        +0.j  0.06193788+0.j  0.        +0.j  0.        +0.j]\n",
      " [-0.025     +0.j  0.        +0.j  0.        +0.j  0.        +0.j\n",
      "   0.        +0.j  0.        +0.j  0.05      +0.j  0.        +0.j]\n",
      " [ 0.        +0.j -0.025     +0.j -0.025     +0.j  0.        +0.j\n",
      "   0.        +0.j  0.        +0.j  0.        +0.j  0.07749936+0.j]]\n",
      "The initial state is\n"
     ]
    },
    {
     "ename": "ValueError",
     "evalue": "not enough values to unpack (expected 4, got 3)",
     "output_type": "error",
     "traceback": [
      "\u001b[31m---------------------------------------------------------------------------\u001b[39m",
      "\u001b[31mValueError\u001b[39m                                Traceback (most recent call last)",
      "\u001b[36mCell\u001b[39m\u001b[36m \u001b[39m\u001b[32mIn[3]\u001b[39m\u001b[32m, line 1\u001b[39m\n\u001b[32m----> \u001b[39m\u001b[32m1\u001b[39m \u001b[43mmain\u001b[49m\u001b[43m(\u001b[49m\u001b[43m)\u001b[49m\n",
      "\u001b[36mCell\u001b[39m\u001b[36m \u001b[39m\u001b[32mIn[2]\u001b[39m\u001b[32m, line 25\u001b[39m, in \u001b[36mmain\u001b[39m\u001b[34m()\u001b[39m\n\u001b[32m     23\u001b[39m  \u001b[38;5;66;03m#vqte_init_state, ansatz, init_param_values = build_initial_states(ham_real)\u001b[39;00m\n\u001b[32m     24\u001b[39m  \u001b[38;5;28mprint\u001b[39m(\u001b[33m\"\u001b[39m\u001b[33mThe initial state is\u001b[39m\u001b[33m\"\u001b[39m)\n\u001b[32m---> \u001b[39m\u001b[32m25\u001b[39m  vqte_init_state, exact_diag_init_state, ansatz, init_param_values = build_initial_states(ham_real)\n\u001b[32m     26\u001b[39m \u001b[38;5;66;03m# exact_diag_ham = build_exact_diag_hamiltonian(eps)\u001b[39;00m\n\u001b[32m     28\u001b[39m  \u001b[38;5;28mprint\u001b[39m(vqte_init_state)\n",
      "\u001b[31mValueError\u001b[39m: not enough values to unpack (expected 4, got 3)"
     ]
    }
   ],
   "source": [
    "main()"
   ]
  }
 ],
 "metadata": {
  "kernelspec": {
   "display_name": "Python 3",
   "language": "python",
   "name": "python3"
  },
  "language_info": {
   "codemirror_mode": {
    "name": "ipython",
    "version": 3
   },
   "file_extension": ".py",
   "mimetype": "text/x-python",
   "name": "python",
   "nbconvert_exporter": "python",
   "pygments_lexer": "ipython3",
   "version": "3.11.9"
  }
 },
 "nbformat": 4,
 "nbformat_minor": 5
}
