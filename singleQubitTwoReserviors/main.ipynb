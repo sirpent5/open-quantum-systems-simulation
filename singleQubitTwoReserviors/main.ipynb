{
 "cells": [
  {
   "cell_type": "code",
   "execution_count": 1,
   "id": "d6622a9e",
   "metadata": {},
   "outputs": [
    {
     "name": "stdout",
     "output_type": "stream",
     "text": [
      "Exact Diag Ham:  [[0.+0.j 0.+0.j]\n",
      " [0.+0.j 1.+0.j]]\n",
      "Ham real:  SparsePauliOp(['IZ', 'ZI', 'XY', 'YX'],\n",
      "              coeffs=[-0.5+0.j,  0.5+0.j, -0. +0.j, -0. +0.j])\n",
      "Ham imag:  SparsePauliOp(['XX', 'YY', 'II', 'IZ', 'ZI'],\n",
      "              coeffs=[-0.25+0.j,  0.25+0.j,  0.5 +0.j, -0.  +0.j, -0.  +0.j])\n",
      "Initil State :  Statevector([ 1.0000000e+00+9.79717439e-16j,\n",
      "             -2.4492936e-16-8.99855870e-32j,\n",
      "             -4.8985872e-16-1.79971174e-31j,\n",
      "             -2.4492936e-16+2.99951957e-32j],\n",
      "            dims=(2, 2))\n",
      "Exact Initial :  [[ 1.0000000e+00+9.79717439e-16j -4.8985872e-16-1.79971174e-31j]\n",
      " [-2.4492936e-16-8.99855870e-32j -2.4492936e-16+2.99951957e-32j]]\n"
     ]
    },
    {
     "ename": "ValueError",
     "evalue": "too many values to unpack (expected 2)",
     "output_type": "error",
     "traceback": [
      "\u001b[31m---------------------------------------------------------------------------\u001b[39m",
      "\u001b[31mValueError\u001b[39m                                Traceback (most recent call last)",
      "\u001b[36mCell\u001b[39m\u001b[36m \u001b[39m\u001b[32mIn[1]\u001b[39m\u001b[32m, line 53\u001b[39m\n\u001b[32m     51\u001b[39m         output_results(vqte_results, exact_diag_results, time, nt, time_points)\n\u001b[32m     52\u001b[39m         \u001b[38;5;28mprint\u001b[39m(vqte_results[-\u001b[32m1\u001b[39m])\n\u001b[32m---> \u001b[39m\u001b[32m53\u001b[39m \u001b[43mmain\u001b[49m\u001b[43m(\u001b[49m\u001b[43m)\u001b[49m\n",
      "\u001b[36mCell\u001b[39m\u001b[36m \u001b[39m\u001b[32mIn[1]\u001b[39m\u001b[32m, line 45\u001b[39m, in \u001b[36mmain\u001b[39m\u001b[34m()\u001b[39m\n\u001b[32m     42\u001b[39m \u001b[38;5;28mprint\u001b[39m(\u001b[33m\"\u001b[39m\u001b[33mExact Initial : \u001b[39m\u001b[33m\"\u001b[39m, exact_diag_init_state)\n\u001b[32m     44\u001b[39m \u001b[38;5;66;03m# Perform exact diagonalization\u001b[39;00m\n\u001b[32m---> \u001b[39m\u001b[32m45\u001b[39m exact_diag_results, time_points = perform_exact_diag(gamma_L, F_L, gamma_R, F_R, dt, nt, exact_diag_init_state, exact_diag_ham)\n\u001b[32m     47\u001b[39m \u001b[38;5;66;03m# Perform vqte simulation\u001b[39;00m\n\u001b[32m     48\u001b[39m vqte_results = perform_vqte(ham_real, ham_imag, vqte_init_state, dt, nt, ansatz, init_param_values)\n",
      "\u001b[31mValueError\u001b[39m: too many values to unpack (expected 2)"
     ]
    }
   ],
   "source": [
    "# Initialize the simulation parameters\n",
    "from imports import *\n",
    "from globalMethods import *\n",
    "from vqteMethods import *\n",
    "from exactDiagMethods import *\n",
    "\n",
    "def main():\n",
    "        # Initialize the simulation parameters\n",
    "        gamma_L = 1\n",
    "        gamma_R = 0\n",
    "\n",
    "        eps = 1.0\n",
    "\n",
    "        mu_L= 1.0\n",
    "        mu_R= 1.0\n",
    "\n",
    "        # Temperature of Reserviors\n",
    "        T_L = 10\n",
    "        T_R= 100\n",
    "\n",
    "        time = 5\n",
    "        dt = 0.05\n",
    "        nt = int(time/dt)\n",
    "\n",
    "        beta_L=1/T_L\n",
    "        beta_R=1/T_R\n",
    "        F_L = 1/(np.exp(beta_L*(eps-mu_L))+1)\n",
    "        F_R = 1/(np.exp(beta_R*(eps-mu_R))+1)\n",
    "\n",
    "\n",
    "        # Generate Hamiltonians\n",
    "        exact_diag_ham = build_exact_diag_hamiltonian(eps)\n",
    "        ham_real, ham_imag = hamiltonian_generation(eps, gamma_L, gamma_R, F_R,F_L)\n",
    "        print(\"Exact Diag Ham: \", exact_diag_ham)\n",
    "        print(\"Ham real: \", ham_real)\n",
    "        print(\"Ham imag: \", ham_imag)\n",
    "\n",
    "\n",
    "        # Generate initial states\n",
    "        vqte_init_state, exact_diag_init_state, ansatz, init_param_values = build_initial_states(ham_real)\n",
    "        print(\"Initil State : \" , vqte_init_state)\n",
    "        print(\"Exact Initial : \", exact_diag_init_state)\n",
    "\n",
    "        # Perform exact diagonalization\n",
    "        exact_diag_results, time_points = perform_exact_diag(gamma_L, F_L, gamma_R, F_R, dt, nt, exact_diag_init_state, exact_diag_ham)\n",
    "    \n",
    "        # Perform vqte simulation\n",
    "        vqte_results = perform_vqte(ham_real, ham_imag, vqte_init_state, dt, nt, ansatz, init_param_values)\n",
    "\n",
    "        #Output results\n",
    "        output_results(vqte_results, exact_diag_results, time, nt, time_points)\n",
    "        print(vqte_results[-1])\n",
    "main()"
   ]
  }
 ],
 "metadata": {
  "kernelspec": {
   "display_name": ".venv",
   "language": "python",
   "name": "python3"
  },
  "language_info": {
   "codemirror_mode": {
    "name": "ipython",
    "version": 3
   },
   "file_extension": ".py",
   "mimetype": "text/x-python",
   "name": "python",
   "nbconvert_exporter": "python",
   "pygments_lexer": "ipython3",
   "version": "3.11.9"
  }
 },
 "nbformat": 4,
 "nbformat_minor": 5
}
