{
 "cells": [
  {
   "cell_type": "code",
   "execution_count": null,
   "id": "d6622a9e",
   "metadata": {},
   "outputs": [
    {
     "name": "stdout",
     "output_type": "stream",
     "text": [
      "Exact Diag Ham:  [[0.+0.j 0.+0.j]\n",
      " [0.+0.j 1.+0.j]]\n",
      "Ham real:  SparsePauliOp(['IZ', 'ZI', 'XY', 'YX'],\n",
      "              coeffs=[-0.5+0.j,  0.5+0.j, -0. +0.j, -0. +0.j])\n",
      "Ham imag:  SparsePauliOp(['XX', 'YY', 'II', 'IZ', 'ZI'],\n",
      "              coeffs=[-0.25+0.j,  0.25+0.j,  0.5 +0.j, -0.  +0.j, -0.  +0.j])\n",
      "Initil State :  Statevector([ 1.0000000e+00+4.89858720e-16j,\n",
      "             -1.2246468e-16-2.99951957e-32j,\n",
      "             -2.4492936e-16-2.99951957e-32j,\n",
      "             -1.2246468e-16+2.99951957e-32j],\n",
      "            dims=(2, 2))\n",
      "Exact Initial :  [[ 1.0000000e+00+4.89858720e-16j -2.4492936e-16-2.99951957e-32j]\n",
      " [-1.2246468e-16-2.99951957e-32j -1.2246468e-16+2.99951957e-32j]]\n"
     ]
    },
    {
     "ename": "NameError",
     "evalue": "name 'nt' is not defined",
     "output_type": "error",
     "traceback": [
      "\u001b[31m---------------------------------------------------------------------------\u001b[39m",
      "\u001b[31mNameError\u001b[39m                                 Traceback (most recent call last)",
      "\u001b[36mCell\u001b[39m\u001b[36m \u001b[39m\u001b[32mIn[1]\u001b[39m\u001b[32m, line 62\u001b[39m\n\u001b[32m     60\u001b[39m         output_results(vqte_results, exact_diag_results, time, nt, time_points)\n\u001b[32m     61\u001b[39m         \u001b[38;5;28mprint\u001b[39m(vqte_results[-\u001b[32m1\u001b[39m])\n\u001b[32m---> \u001b[39m\u001b[32m62\u001b[39m \u001b[43mmain\u001b[49m\u001b[43m(\u001b[49m\u001b[43m)\u001b[49m\n",
      "\u001b[36mCell\u001b[39m\u001b[36m \u001b[39m\u001b[32mIn[1]\u001b[39m\u001b[32m, line 26\u001b[39m, in \u001b[36mmain\u001b[39m\u001b[34m()\u001b[39m\n\u001b[32m     23\u001b[39m layers = \u001b[32m3\u001b[39m\n\u001b[32m     25\u001b[39m \u001b[38;5;28;01mfor\u001b[39;00m layer \u001b[38;5;129;01min\u001b[39;00m \u001b[38;5;28mrange\u001b[39m(\u001b[32m1\u001b[39m, layers+\u001b[32m1\u001b[39m):\n\u001b[32m---> \u001b[39m\u001b[32m26\u001b[39m         \u001b[43mrun_multiple_layers\u001b[49m\u001b[43m(\u001b[49m\u001b[43mlayer\u001b[49m\u001b[43m,\u001b[49m\u001b[43m \u001b[49m\u001b[43mgamma_L\u001b[49m\u001b[43m,\u001b[49m\u001b[43m \u001b[49m\u001b[43mgamma_R\u001b[49m\u001b[43m,\u001b[49m\u001b[43m \u001b[49m\u001b[43meps\u001b[49m\u001b[43m,\u001b[49m\u001b[43m \u001b[49m\u001b[43mmu_L\u001b[49m\u001b[43m,\u001b[49m\u001b[43m \u001b[49m\u001b[43mmu_R\u001b[49m\u001b[43m,\u001b[49m\u001b[43m \u001b[49m\u001b[43mT_L\u001b[49m\u001b[43m,\u001b[49m\u001b[43m \u001b[49m\u001b[43mT_R\u001b[49m\u001b[43m,\u001b[49m\u001b[43m \u001b[49m\u001b[43mtime\u001b[49m\u001b[43m,\u001b[49m\u001b[43m \u001b[49m\u001b[43mdt\u001b[49m\u001b[43m)\u001b[49m\n",
      "\u001b[36mCell\u001b[39m\u001b[36m \u001b[39m\u001b[32mIn[1]\u001b[39m\u001b[32m, line 54\u001b[39m, in \u001b[36mrun_multiple_layers\u001b[39m\u001b[34m(layer, gamma_L, gamma_R, eps, mu_L, mu_R, T_L, T_R, time, dt)\u001b[39m\n\u001b[32m     51\u001b[39m \u001b[38;5;28mprint\u001b[39m(\u001b[33m\"\u001b[39m\u001b[33mExact Initial : \u001b[39m\u001b[33m\"\u001b[39m, exact_diag_init_state)\n\u001b[32m     53\u001b[39m \u001b[38;5;66;03m# Perform exact diagonalization\u001b[39;00m\n\u001b[32m---> \u001b[39m\u001b[32m54\u001b[39m exact_diag_results, time_points, exact_fidelity = perform_exact_diag(gamma_L, F_L, gamma_R, F_R, dt, \u001b[43mnt\u001b[49m, exact_diag_init_state, exact_diag_ham)\n\u001b[32m     56\u001b[39m \u001b[38;5;66;03m# Perform vqte simulation\u001b[39;00m\n\u001b[32m     57\u001b[39m vqte_results = perform_vqte(ham_real, ham_imag, vqte_init_state, dt, nt, ansatz, init_param_values)\n",
      "\u001b[31mNameError\u001b[39m: name 'nt' is not defined"
     ]
    }
   ],
   "source": [
    "# Initialize the simulation parameters\n",
    "from imports import *\n",
    "from globalMethods import *\n",
    "from vqteMethods import *\n",
    "from exactDiagMethods import *\n",
    "\n",
    "def main():\n",
    "        gamma_L = 1\n",
    "        gamma_R = 0\n",
    "\n",
    "        eps = 1.0\n",
    "\n",
    "        mu_L= 1.0\n",
    "        mu_R= 1.0\n",
    "\n",
    "        # Temperature of Reserviors\n",
    "        T_L = 10\n",
    "        T_R= 100\n",
    "\n",
    "        time = 5\n",
    "        dt = 0.05\n",
    "\n",
    "        layers = 3\n",
    "\n",
    "        for layer in range(1, layers+1):\n",
    "                run_multiple_layers(layer, gamma_L, gamma_R, eps, mu_L, mu_R, T_L, T_R, time, dt)\n",
    "\n",
    "\n",
    "\n",
    "\n",
    "def run_multiple_layers(layer, gamma_L, gamma_R, eps, mu_L, mu_R, T_L, T_R, time, dt):\n",
    "\n",
    "        nt = int(time/dt)\n",
    "        beta_L=1/T_L\n",
    "        beta_R=1/T_R\n",
    "        F_L = 1/(np.exp(beta_L*(eps-mu_L))+1)\n",
    "        F_R = 1/(np.exp(beta_R*(eps-mu_R))+1)\n",
    "\n",
    "\n",
    "        # Generate Hamiltonians\n",
    "        exact_diag_ham = build_exact_diag_hamiltonian(eps)\n",
    "        ham_real, ham_imag = hamiltonian_generation(eps, gamma_L, gamma_R, F_R,F_L)\n",
    "        print(\"Exact Diag Ham: \", exact_diag_ham)\n",
    "        print(\"Ham real: \", ham_real)\n",
    "        print(\"Ham imag: \", ham_imag)\n",
    "\n",
    "\n",
    "        # Generate initial states\n",
    "        vqte_init_state, exact_diag_init_state, ansatz, init_param_values = build_initial_states(ham_real, layer)\n",
    "        print(\"Initil State : \" , vqte_init_state)\n",
    "        print(\"Exact Initial : \", exact_diag_init_state)\n",
    "\n",
    "        # Perform exact diagonalization\n",
    "        exact_diag_results, time_points, exact_fidelity = perform_exact_diag(gamma_L, F_L, gamma_R, F_R, dt, nt, exact_diag_init_state, exact_diag_ham)\n",
    "    \n",
    "        # Perform vqte simulation\n",
    "        vqte_results = perform_vqte(ham_real, ham_imag, vqte_init_state, dt, nt, ansatz, init_param_values)\n",
    "\n",
    "        #Output results\n",
    "        output_results(vqte_results, exact_diag_results, time, nt, time_points)\n",
    "        print(vqte_results[-1])\n",
    "main()"
   ]
  }
 ],
 "metadata": {
  "kernelspec": {
   "display_name": ".venv",
   "language": "python",
   "name": "python3"
  },
  "language_info": {
   "codemirror_mode": {
    "name": "ipython",
    "version": 3
   },
   "file_extension": ".py",
   "mimetype": "text/x-python",
   "name": "python",
   "nbconvert_exporter": "python",
   "pygments_lexer": "ipython3",
   "version": "3.11.9"
  }
 },
 "nbformat": 4,
 "nbformat_minor": 5
}
