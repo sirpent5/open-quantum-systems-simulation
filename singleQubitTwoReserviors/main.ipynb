{
 "cells": [
  {
   "cell_type": "code",
   "execution_count": null,
   "id": "d6622a9e",
   "metadata": {},
   "outputs": [
    {
     "ename": "TypeError",
     "evalue": "build_initial_states() missing 1 required positional argument: 'ansatz'",
     "output_type": "error",
     "traceback": [
      "\u001b[31m---------------------------------------------------------------------------\u001b[39m",
      "\u001b[31mTypeError\u001b[39m                                 Traceback (most recent call last)",
      "\u001b[36mCell\u001b[39m\u001b[36m \u001b[39m\u001b[32mIn[2]\u001b[39m\u001b[32m, line 52\u001b[39m\n\u001b[32m     39\u001b[39m     vqte_results = perform_vqte(ham_real, ham_imag, vqte_init_state, dt, nt, ansatz, init_param_values)\n\u001b[32m     42\u001b[39m     output_results(\n\u001b[32m     43\u001b[39m     vqte_results, \n\u001b[32m     44\u001b[39m     exact_diag_results, \n\u001b[32m     45\u001b[39m     time_points, \n\u001b[32m     46\u001b[39m     mu_L, T_L, gamma_L, \n\u001b[32m     47\u001b[39m     mu_R, T_R, gamma_R)\n\u001b[32m---> \u001b[39m\u001b[32m52\u001b[39m \u001b[43mmain\u001b[49m\u001b[43m(\u001b[49m\u001b[43m)\u001b[49m\n\u001b[32m     54\u001b[39m \u001b[38;5;66;03m## run multiple times with diff ansatz layers\u001b[39;00m\n\u001b[32m     55\u001b[39m \u001b[38;5;66;03m## Get fidelity.\u001b[39;00m\n\u001b[32m     56\u001b[39m \u001b[38;5;66;03m## Also save fidelity results to file\u001b[39;00m\n\u001b[32m     57\u001b[39m \u001b[38;5;66;03m## Plot fidelity vs time for different ansatz layers\u001b[39;00m\n\u001b[32m     58\u001b[39m \u001b[38;5;66;03m## Plot component by component comparison for different ansatz layers\u001b[39;00m\n",
      "\u001b[36mCell\u001b[39m\u001b[36m \u001b[39m\u001b[32mIn[2]\u001b[39m\u001b[32m, line 31\u001b[39m, in \u001b[36mmain\u001b[39m\u001b[34m()\u001b[39m\n\u001b[32m     26\u001b[39m ham_real, ham_imag = hamiltonian_generation(eps, gamma_L, gamma_R, F_R,F_L)\n\u001b[32m     30\u001b[39m \u001b[38;5;66;03m# Generate initial states\u001b[39;00m\n\u001b[32m---> \u001b[39m\u001b[32m31\u001b[39m vqte_init_state, exact_diag_init_state, ansatz, init_param_values = \u001b[43mbuild_initial_states\u001b[49m\u001b[43m(\u001b[49m\u001b[43mham_real\u001b[49m\u001b[43m)\u001b[49m\n\u001b[32m     32\u001b[39m \u001b[38;5;28mprint\u001b[39m(\u001b[33m\"\u001b[39m\u001b[33mVQTE Initial State : \u001b[39m\u001b[33m\"\u001b[39m , vqte_init_state)\n\u001b[32m     33\u001b[39m \u001b[38;5;28mprint\u001b[39m(\u001b[33m\"\u001b[39m\u001b[33mExact Initial : \u001b[39m\u001b[33m\"\u001b[39m, exact_diag_init_state)\n",
      "\u001b[31mTypeError\u001b[39m: build_initial_states() missing 1 required positional argument: 'ansatz'"
     ]
    }
   ],
   "source": [
    "# Initialize the simulation parameters\n",
    "def main():\n",
    "    gamma_L = 2\n",
    "    gamma_R = 3\n",
    "\n",
    "    eps = 1.0\n",
    "\n",
    "    mu_L= 1\n",
    "    mu_R= 2\n",
    "\n",
    "    # Temperature of Reserviors\n",
    "    T_L = 1\n",
    "    T_R= 1\n",
    "\n",
    "    time = 1.5\n",
    "    dt = 0.6\n",
    "    nt = int(time/dt)\n",
    "\n",
    "    beta_L=1/T_L\n",
    "    beta_R=1/T_R\n",
    "    F_L = 1/(np.exp(beta_L*(eps-mu_L))+1)\n",
    "    F_R = 1/(np.exp(beta_R*(eps-mu_R))+1)\n",
    "\n",
    "    # Generate Hamiltonians\n",
    "    exact_diag_ham = build_exact_diag_hamiltonian(eps)\n",
    "    ham_real, ham_imag = hamiltonian_generation(eps, gamma_L, gamma_R, F_R,F_L)\n",
    "\n",
    "\n",
    "\n",
    "    # Generate initial states\n",
    "    vqte_init_state, exact_diag_init_state, ansatz, init_param_values = build_initial_states(ham_real, ansatz)\n",
    "    print(\"VQTE Initial State : \" , vqte_init_state)\n",
    "    print(\"Exact Initial : \", exact_diag_init_state)\n",
    "\n",
    "    # Perform exact diagonalization\n",
    "    exact_diag_results, time_points = perform_exact_diag(gamma_L, F_L, gamma_R, F_R, dt, nt, exact_diag_init_state, exact_diag_ham)\n",
    "\n",
    "    # Perform vqte simulation\n",
    "    vqte_results = perform_vqte(ham_real, ham_imag, vqte_init_state, dt, nt, ansatz, init_param_values)\n",
    "\n",
    "\n",
    "    output_results(\n",
    "    vqte_results, \n",
    "    exact_diag_results, \n",
    "    time_points, \n",
    "    mu_L, T_L, gamma_L, \n",
    "    mu_R, T_R, gamma_R)\n",
    "\n",
    "\n",
    "\n",
    "\n",
    "main()\n",
    "\n"
   ]
  }
 ],
 "metadata": {
  "kernelspec": {
   "display_name": ".venv",
   "language": "python",
   "name": "python3"
  },
  "language_info": {
   "codemirror_mode": {
    "name": "ipython",
    "version": 3
   },
   "file_extension": ".py",
   "mimetype": "text/x-python",
   "name": "python",
   "nbconvert_exporter": "python",
   "pygments_lexer": "ipython3",
   "version": "3.11.9"
  }
 },
 "nbformat": 4,
 "nbformat_minor": 5
}
