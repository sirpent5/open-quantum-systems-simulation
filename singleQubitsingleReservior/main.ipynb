{
 "cells": [
  {
   "cell_type": "code",
   "execution_count": 1,
   "id": "cfd70f4e",
   "metadata": {},
   "outputs": [],
   "source": [
    "from imports import *\n",
    "from defs import numberop, Sigma_minus, Sigma_plus, Sigma_x, Sigma_y, Sigma_z\n",
    "from exactDiagMethods import Liouvillian, perform_exact_diag, build_exact_diag_hamiltonian\n",
    "from globalMethods import verify_density_matrix, output_results, build_initial_states\n",
    "from vqteMethods import hamiltonian_generation_simple, hamiltonian_generation, perform_vqte"
   ]
  },
  {
   "cell_type": "code",
   "execution_count": null,
   "id": "d6622a9e",
   "metadata": {},
   "outputs": [],
   "source": [
    "\n",
    "def main():\n",
    "    \n",
    "    # Initialize the simulation parameters\n",
    "    gamma=0.1\n",
    "    eps=1\n",
    "    mu=3\n",
    "    T=10\n",
    "    beta=1/T\n",
    "    F = 1/(np.exp(beta*(eps-mu))+1)\n",
    "\n",
    "    time = 50.0\n",
    "    dt = 0.1\n",
    "    nt = int(time/dt)\n",
    "\n",
    "    ham_real, ham_imag = hamiltonian_generation(eps, gamma, mu, T)\n",
    "    vqte_init_state, exact_diag_init_state, ansatz, init_param_values = build_initial_states(ham_real)\n",
    "    exact_diag_ham = build_exact_diag_hamiltonian(eps)\n",
    "\n",
    "    print(vqte_init_state)\n",
    "    print(exact_diag_init_state)\n",
    "\n",
    "    # Perform exact diagonalization\n",
    "    exact_diag_results, time_points = perform_exact_diag(gamma, F, dt, nt, exact_diag_init_state,exact_diag_ham)\n",
    "\n",
    "    # Perform VQTE simulation\n",
    "    vqte_results, trace_list = perform_vqte(ham_real, ham_imag, vqte_init_state, mu, T, dt, nt, ansatz, init_param_values)\n",
    "\n",
    "    # Output results\n",
    "    output_results(vqte_results, exact_diag_results, time, nt, eps, mu, T, time_points, trace_list)"
   ]
  },
  {
   "cell_type": "code",
   "execution_count": 3,
   "id": "8a6ff9c2",
   "metadata": {},
   "outputs": [
    {
     "name": "stdout",
     "output_type": "stream",
     "text": [
      "Statevector([ 1.0000000e+00+4.89858720e-16j,\n",
      "             -1.2246468e-16-2.99951957e-32j,\n",
      "             -2.4492936e-16-2.99951957e-32j,\n",
      "             -1.2246468e-16+2.99951957e-32j],\n",
      "            dims=(2, 2))\n",
      "[[ 1.0000000e+00+4.89858720e-16j -2.4492936e-16-2.99951957e-32j]\n",
      " [-1.2246468e-16-2.99951957e-32j -1.2246468e-16+2.99951957e-32j]]\n"
     ]
    },
    {
     "ename": "TypeError",
     "evalue": "perform_exact_diag() takes 6 positional arguments but 7 were given",
     "output_type": "error",
     "traceback": [
      "\u001b[31m---------------------------------------------------------------------------\u001b[39m",
      "\u001b[31mTypeError\u001b[39m                                 Traceback (most recent call last)",
      "\u001b[36mCell\u001b[39m\u001b[36m \u001b[39m\u001b[32mIn[3]\u001b[39m\u001b[32m, line 1\u001b[39m\n\u001b[32m----> \u001b[39m\u001b[32m1\u001b[39m \u001b[43mmain\u001b[49m\u001b[43m(\u001b[49m\u001b[43m)\u001b[49m\n",
      "\u001b[36mCell\u001b[39m\u001b[36m \u001b[39m\u001b[32mIn[2]\u001b[39m\u001b[32m, line 23\u001b[39m, in \u001b[36mmain\u001b[39m\u001b[34m()\u001b[39m\n\u001b[32m     20\u001b[39m \u001b[38;5;28mprint\u001b[39m(exact_diag_init_state)\n\u001b[32m     22\u001b[39m \u001b[38;5;66;03m# Perform exact diagonalization\u001b[39;00m\n\u001b[32m---> \u001b[39m\u001b[32m23\u001b[39m exact_diag_results, time_points = \u001b[43mperform_exact_diag\u001b[49m\u001b[43m(\u001b[49m\u001b[43mgamma\u001b[49m\u001b[43m,\u001b[49m\u001b[43m \u001b[49m\u001b[43mF\u001b[49m\u001b[43m,\u001b[49m\u001b[43m \u001b[49m\u001b[43mdt\u001b[49m\u001b[43m,\u001b[49m\u001b[43m \u001b[49m\u001b[43mnt\u001b[49m\u001b[43m,\u001b[49m\u001b[43m \u001b[49m\u001b[43mexact_diag_init_state\u001b[49m\u001b[43m,\u001b[49m\u001b[43mexact_diag_ham\u001b[49m\u001b[43m,\u001b[49m\u001b[43m \u001b[49m\u001b[43mN\u001b[49m\u001b[43m)\u001b[49m\n\u001b[32m     25\u001b[39m \u001b[38;5;66;03m# Perform VQTE simulation\u001b[39;00m\n\u001b[32m     26\u001b[39m vqte_results, trace_list = perform_vqte(ham_real, ham_imag, vqte_init_state, mu, T, dt, nt, ansatz, init_param_values)\n",
      "\u001b[31mTypeError\u001b[39m: perform_exact_diag() takes 6 positional arguments but 7 were given"
     ]
    }
   ],
   "source": [
    "main()"
   ]
  }
 ],
 "metadata": {
  "kernelspec": {
   "display_name": "Python 3",
   "language": "python",
   "name": "python3"
  },
  "language_info": {
   "codemirror_mode": {
    "name": "ipython",
    "version": 3
   },
   "file_extension": ".py",
   "mimetype": "text/x-python",
   "name": "python",
   "nbconvert_exporter": "python",
   "pygments_lexer": "ipython3",
   "version": "3.11.9"
  }
 },
 "nbformat": 4,
 "nbformat_minor": 5
}
