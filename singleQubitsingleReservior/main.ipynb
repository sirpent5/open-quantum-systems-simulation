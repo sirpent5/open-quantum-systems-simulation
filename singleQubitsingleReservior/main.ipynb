{
 "cells": [
  {
   "cell_type": "code",
   "execution_count": null,
   "id": "cfd70f4e",
   "metadata": {},
   "outputs": [],
   "source": [
    "from imports import *\n",
    "from exactDiagMethods import perform_exact_diag, build_exact_diag_hamiltonian\n",
    "from globalMethods import output_results, build_initial_states\n",
    "from vqteMethods import hamiltonian_generation, perform_vqte"
   ]
  },
  {
   "cell_type": "code",
   "execution_count": 2,
   "id": "d6622a9e",
   "metadata": {},
   "outputs": [],
   "source": [
    "\n",
    "def main():\n",
    "    \n",
    "    # Initialize the simulation parameters\n",
    "    gamma = 0.5\n",
    "    eps = 1\n",
    "    mu = 3\n",
    "    T = 30\n",
    "    beta=1/T\n",
    "    F = 1/(np.exp(beta*(eps-mu))+1)\n",
    "\n",
    "    time = 50.0\n",
    "    dt = 0.1\n",
    "    nt = int(time/dt)\n",
    "\n",
    "\n",
    "    # Generate Hamiltonians\n",
    "    ham_real, ham_imag = hamiltonian_generation(eps, gamma, mu, T)\n",
    "    exact_diag_ham = build_exact_diag_hamiltonian(eps)\n",
    "\n",
    "\n",
    "    #Build initial states\n",
    "    vqte_init_state, exact_diag_init_state, ansatz, init_param_values = build_initial_states(ham_real)\n",
    "    \n",
    "\n",
    "    # Perform exact diagonalization\n",
    "    exact_diag_results, time_points = perform_exact_diag(gamma, F, dt, nt, exact_diag_init_state, exact_diag_ham)\n",
    "\n",
    "    # Perform VQTE simulation\n",
    "    vqte_results = perform_vqte(ham_real, ham_imag, vqte_init_state, mu, T, dt, nt, ansatz, init_param_values)\n",
    "\n",
    "    # Output results\n",
    "    output_results(vqte_results, exact_diag_results, time, nt, eps, mu, T, time_points)"
   ]
  },
  {
   "cell_type": "code",
   "execution_count": 3,
   "id": "8a6ff9c2",
   "metadata": {},
   "outputs": [
    {
     "ename": "NameError",
     "evalue": "name 'np' is not defined",
     "output_type": "error",
     "traceback": [
      "\u001b[31m---------------------------------------------------------------------------\u001b[39m",
      "\u001b[31mNameError\u001b[39m                                 Traceback (most recent call last)",
      "\u001b[36mCell\u001b[39m\u001b[36m \u001b[39m\u001b[32mIn[3]\u001b[39m\u001b[32m, line 1\u001b[39m\n\u001b[32m----> \u001b[39m\u001b[32m1\u001b[39m \u001b[43mmain\u001b[49m\u001b[43m(\u001b[49m\u001b[43m)\u001b[49m\n",
      "\u001b[36mCell\u001b[39m\u001b[36m \u001b[39m\u001b[32mIn[2]\u001b[39m\u001b[32m, line 9\u001b[39m, in \u001b[36mmain\u001b[39m\u001b[34m()\u001b[39m\n\u001b[32m      7\u001b[39m T = \u001b[32m30\u001b[39m\n\u001b[32m      8\u001b[39m beta=\u001b[32m1\u001b[39m/T\n\u001b[32m----> \u001b[39m\u001b[32m9\u001b[39m F = \u001b[32m1\u001b[39m/(\u001b[43mnp\u001b[49m.exp(beta*(eps-mu))+\u001b[32m1\u001b[39m)\n\u001b[32m     11\u001b[39m time = \u001b[32m50.0\u001b[39m\n\u001b[32m     12\u001b[39m dt = \u001b[32m0.1\u001b[39m\n",
      "\u001b[31mNameError\u001b[39m: name 'np' is not defined"
     ]
    }
   ],
   "source": [
    "main()"
   ]
  }
 ],
 "metadata": {
  "kernelspec": {
   "display_name": "Python 3",
   "language": "python",
   "name": "python3"
  },
  "language_info": {
   "codemirror_mode": {
    "name": "ipython",
    "version": 3
   },
   "file_extension": ".py",
   "mimetype": "text/x-python",
   "name": "python",
   "nbconvert_exporter": "python",
   "pygments_lexer": "ipython3",
   "version": "3.11.9"
  }
 },
 "nbformat": 4,
 "nbformat_minor": 5
}
